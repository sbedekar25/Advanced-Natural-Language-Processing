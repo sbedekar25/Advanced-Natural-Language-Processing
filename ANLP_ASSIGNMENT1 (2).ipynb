{
 "cells": [
  {
   "cell_type": "markdown",
   "metadata": {
    "nbpresent": {
     "id": "242cdce7-2d43-4944-b207-3d59a07d6fc7"
    }
   },
   "source": [
    "# Python Tutorial 1: Part-of-Speech Tagging 1"
   ]
  },
  {
   "cell_type": "markdown",
   "metadata": {
    "nbpresent": {
     "id": "dc82295e-32bd-42db-ba74-90a6a5ec5328"
    }
   },
   "source": [
    "**(C) 2016-2018 by [Damir Cavar](http://damir.cavar.me/) <<dcavar@iu.edu>>**"
   ]
  },
  {
   "cell_type": "markdown",
   "metadata": {
    "nbpresent": {
     "id": "f38c160f-227a-4ed1-b097-259ef6e8d592"
    }
   },
   "source": [
    "**Version:** 1.1, September 2018"
   ]
  },
  {
   "cell_type": "markdown",
   "metadata": {
    "nbpresent": {
     "id": "adfaa63c-e346-4efa-97f8-f2b019ce90e2"
    }
   },
   "source": [
    "**License:** [Creative Commons Attribution-ShareAlike 4.0 International License](https://creativecommons.org/licenses/by-sa/4.0/) ([CA BY-SA 4.0](https://creativecommons.org/licenses/by-sa/4.0/))"
   ]
  },
  {
   "cell_type": "markdown",
   "metadata": {
    "nbpresent": {
     "id": "faa12275-e06d-41a6-a463-9ac596b9f97f"
    }
   },
   "source": [
    "## Introduction"
   ]
  },
  {
   "cell_type": "markdown",
   "metadata": {
    "nbpresent": {
     "id": "9adb2cba-d0ad-4128-8789-d89740954f65"
    }
   },
   "source": [
    "This is a tutorial about developing simple [Part-of-Speech taggers](https://en.wikipedia.org/wiki/Part-of-speech_tagging) using Python 3.x and the [NLTK](http://nltk.org/)."
   ]
  },
  {
   "cell_type": "markdown",
   "metadata": {
    "nbpresent": {
     "id": "84d90485-5d7e-4458-8b7e-34dbae2b60b5"
    }
   },
   "source": [
    "This tutorial was developed as part of the course material for the course Advanced Natural Language Processing in the [Computational Linguistics Program](http://cl.indiana.edu/) of the [Department of Linguistics](http://www.indiana.edu/~lingdept/) at [Indiana University](https://www.indiana.edu/)."
   ]
  },
  {
   "cell_type": "markdown",
   "metadata": {
    "nbpresent": {
     "id": "42f6a01f-1953-421c-91e7-6c13456abb2b"
    }
   },
   "source": [
    "The [Brown corpus](https://en.wikipedia.org/wiki/Brown_Corpus) in distributed as part of the [NLTK Data](http://www.nltk.org/data.html). To be able to use the [NLTK Data](http://www.nltk.org/data.html) and the [Brown corpus](https://en.wikipedia.org/wiki/Brown_Corpus) on your local machine, you need to install the data as described on [the Installing NLTK Data page](http://www.nltk.org/data.html). If you want to use iPython on your local machine, I recommend installing a Python 3.x distribution, for example the most recent [Anaconda release](https://www.continuum.io/downloads), and reading the instructions how to run [iPython on Anaconda](http://jupyter.readthedocs.io/en/latest/install.html)."
   ]
  },
  {
   "cell_type": "markdown",
   "metadata": {
    "nbpresent": {
     "id": "c661ca33-2c25-4738-ad7d-5aa38ec431f6"
    }
   },
   "source": [
    "## Part-of-Speech Tagging"
   ]
  },
  {
   "cell_type": "markdown",
   "metadata": {
    "nbpresent": {
     "id": "d6e4c56f-d256-4ac0-8a80-e0486df4854c"
    }
   },
   "source": [
    "We refer to Part-of-Speech (PoS) tagging as the task of assigning class information to individual words (tokens) in some text. The tags are defined in tagsets that specify character sequences that represent sets of for example lexical, morphological, syntactic, or semantic features. See for more details the [Categorizing and Tagging Words chapter](http://www.nltk.org/book/ch05.html) of the [NLTK book](http://www.nltk.org/book/)."
   ]
  },
  {
   "cell_type": "markdown",
   "metadata": {
    "nbpresent": {
     "id": "92aaaa7a-75f5-4a1d-b325-dd93533695bf"
    }
   },
   "source": [
    "## Using the Brown Corpus"
   ]
  },
  {
   "cell_type": "markdown",
   "metadata": {
    "nbpresent": {
     "id": "2b7566b0-f2f7-4e6c-bf85-d1bab4a5fb0b"
    }
   },
   "source": [
    "The documentation of the [Brown corpus](https://en.wikipedia.org/wiki/Brown_Corpus) design and properties can be found on [this page](http://clu.uni.no/icame/brown/bcm.html)."
   ]
  },
  {
   "cell_type": "markdown",
   "metadata": {
    "nbpresent": {
     "id": "d8d4ad25-0df1-4db3-bb5c-dee7a5d5cc6f"
    }
   },
   "source": [
    "Using the following line of code we are importing the [Brown corpus](https://en.wikipedia.org/wiki/Brown_Corpus) into the running Python instance. This will make the tokens and PoS-tags from the [Brown corpus](https://en.wikipedia.org/wiki/Brown_Corpus) available for further processing."
   ]
  },
  {
   "cell_type": "code",
   "execution_count": 4,
   "metadata": {
    "nbpresent": {
     "id": "0aa4658a-a396-434e-b836-9bb92d56e0d6"
    }
   },
   "outputs": [
    {
     "name": "stdout",
     "output_type": "stream",
     "text": [
      "[nltk_data] Downloading package brown to\n",
      "[nltk_data]     C:\\Users\\shant\\AppData\\Roaming\\nltk_data...\n",
      "[nltk_data]   Package brown is already up-to-date!\n"
     ]
    },
    {
     "data": {
      "text/plain": [
       "True"
      ]
     },
     "execution_count": 4,
     "metadata": {},
     "output_type": "execute_result"
    }
   ],
   "source": [
    "import nltk\n",
    "nltk.download('brown')"
   ]
  },
  {
   "cell_type": "markdown",
   "metadata": {
    "nbpresent": {
     "id": "99fa6dff-cf35-493f-8ca4-ad5f83e60dcb"
    }
   },
   "source": [
    "Our goal is to assign PoS-tags to a sequence of words that represent a phrase, utterance, or sentence."
   ]
  },
  {
   "cell_type": "markdown",
   "metadata": {
    "nbpresent": {
     "id": "f05be013-9d8d-483f-ad2f-01e789ea1bee"
    }
   },
   "source": [
    "Let us assume that the probability of a sequence of 5 tags $t_1\\ t_2\\ t_3\\ t_4\\ t_5$ given a sequence of 5 tokens $w_1\\ w_2\\ w_3\\ w_4\\ w_5$ is $P(t_1\\ t_2\\ t_3\\ t_4\\ t_5\\ |\\ w_1\\ w_2\\ w_3\\ w_4\\ w_5)$ and can be computed as the product of the probability of one tag given another, e.g. the probability of tag 2 given that tag 1 occurred: $P(t_2\\ |\\ t_1)$, and the probability of one word and a specific tag, e.g. the probability of word 2 given that tag 2 occurred: $P(w_2\\ |\\ t_2)$."
   ]
  },
  {
   "cell_type": "markdown",
   "metadata": {
    "nbpresent": {
     "id": "a9e508b1-07f3-4650-b851-ab697c896346"
    }
   },
   "source": [
    "Let us assume that we use two extra symbols *S* and *E*. *S* stands for sentence beginning and *E* for sentence end. We use these symbols to keep track of different distributions of tags and tokens relative to sentence positions. The token *the* for example is very unlikely to occur in sentence final and more likely to occur in sentence initial position."
   ]
  },
  {
   "cell_type": "markdown",
   "metadata": {
    "nbpresent": {
     "id": "8932f0f7-5571-4a5f-af97-bf25832fbe78"
    }
   },
   "source": [
    "$$P(t_1 \\dots t_5\\ |\\ w_1 \\dots w_5) = P(t_1|S)\\ P(w_1|t_1)\\ P(t_2|t_1)\\ P(w_2|t_2)\\ P(t_3|t_2)\\ P(w_3|t_3)\\ P(t_4|t_3)\\ P(w_3|t_3)\\ P(t_5|t_4)\\ P(w_4|t_4)\\ P(E|t_4)\\ P(w_5|t_5)$$"
   ]
  },
  {
   "cell_type": "markdown",
   "metadata": {
    "nbpresent": {
     "id": "008190c1-2626-4fab-8f0c-fe8b3627f6a0"
    }
   },
   "source": [
    "This equation can be abbreviated as follows:"
   ]
  },
  {
   "cell_type": "markdown",
   "metadata": {
    "nbpresent": {
     "id": "f4042ad3-3854-427b-ae8a-5e629a92f532"
    }
   },
   "source": [
    "$$P(t_1 \\dots t_5\\ |\\ w_1 \\dots w_5) = P(t_1\\ |\\ S)\\ P(E\\ |\\ t_5)\\ \\prod_{i=1}^{5} P(t_{i+1}\\ |\\ t_i)\\ P(w_{i+1}\\ |\\ t_{i+1})$$"
   ]
  },
  {
   "cell_type": "markdown",
   "metadata": {
    "nbpresent": {
     "id": "d50f24e1-6ce5-4541-a2f9-5831b97e5fcf"
    }
   },
   "source": [
    "We extract the probabilities for a word (or token) given that a certain tag occurred, that is $P(w_1\\ |\\ t_1)$, form the frequency profile for tags and tokens from the [Brown corpus](https://en.wikipedia.org/wiki/Brown_Corpus). The necessary data-structure should be loaded and in memory after executing the code cell above."
   ]
  },
  {
   "cell_type": "markdown",
   "metadata": {
    "nbpresent": {
     "id": "67f24dcd-f017-4893-90fd-c5f4a3c421e9"
    }
   },
   "source": [
    "Since we loaded the [Brown corpus](https://en.wikipedia.org/wiki/Brown_Corpus) into memory, we can now use specific methods to access tokens and PoS-tags from the corpus. The following line of code unzips the list of tuples that contain tokens and tags in sequence as found in the corpus and stores the tokens in the *tokens* list and tags in the *tags* list. Note that the \\* operator is used here to unzip a list. See for more details on the [Python zip-function the documentation page](https://docs.python.org/3.5/library/functions.html#zip). The function *brown.tagged_words()* returns a list of tuples *(word, token)*. The *zip*-function creates two lists and assigns those to the variables *tokens* and *tags* respectively."
   ]
  },
  {
   "cell_type": "code",
   "execution_count": 6,
   "metadata": {
    "nbpresent": {
     "id": "d964006f-65f3-4d16-b997-405275447e18"
    }
   },
   "outputs": [],
   "source": [
    "from nltk.corpus import brown\n",
    "tokens, tags = zip(*brown.tagged_words())"
   ]
  },
  {
   "cell_type": "markdown",
   "metadata": {
    "nbpresent": {
     "id": "c7580aa2-cde5-40e9-ac4b-3b2e989c2d45"
    }
   },
   "source": [
    "You can inspect the resulting list of *tokens* by printing it out:"
   ]
  },
  {
   "cell_type": "code",
   "execution_count": 164,
   "metadata": {
    "nbpresent": {
     "id": "295275f9-1bec-4e3d-b365-e86369c4be26"
    },
    "scrolled": true
   },
   "outputs": [
    {
     "data": {
      "text/plain": [
       "('The',\n",
       " 'Fulton',\n",
       " 'County',\n",
       " 'Grand',\n",
       " 'Jury',\n",
       " 'said',\n",
       " 'Friday',\n",
       " 'an',\n",
       " 'investigation',\n",
       " 'of',\n",
       " \"Atlanta's\",\n",
       " 'recent',\n",
       " 'primary',\n",
       " 'election',\n",
       " 'produced',\n",
       " '``',\n",
       " 'no',\n",
       " 'evidence',\n",
       " \"''\",\n",
       " 'that',\n",
       " 'any',\n",
       " 'irregularities',\n",
       " 'took',\n",
       " 'place',\n",
       " '.',\n",
       " 'The',\n",
       " 'jury',\n",
       " 'further',\n",
       " 'said',\n",
       " 'in',\n",
       " 'term-end',\n",
       " 'presentments',\n",
       " 'that',\n",
       " 'the',\n",
       " 'City',\n",
       " 'Executive',\n",
       " 'Committee',\n",
       " ',',\n",
       " 'which',\n",
       " 'had',\n",
       " 'over-all',\n",
       " 'charge',\n",
       " 'of',\n",
       " 'the',\n",
       " 'election',\n",
       " ',',\n",
       " '``',\n",
       " 'deserves',\n",
       " 'the',\n",
       " 'praise',\n",
       " 'and',\n",
       " 'thanks',\n",
       " 'of',\n",
       " 'the',\n",
       " 'City',\n",
       " 'of',\n",
       " 'Atlanta',\n",
       " \"''\",\n",
       " 'for',\n",
       " 'the',\n",
       " 'manner',\n",
       " 'in',\n",
       " 'which',\n",
       " 'the',\n",
       " 'election',\n",
       " 'was',\n",
       " 'conducted',\n",
       " '.',\n",
       " 'The',\n",
       " 'September-October',\n",
       " 'term',\n",
       " 'jury',\n",
       " 'had',\n",
       " 'been',\n",
       " 'charged',\n",
       " 'by',\n",
       " 'Fulton',\n",
       " 'Superior',\n",
       " 'Court',\n",
       " 'Judge',\n",
       " 'Durwood',\n",
       " 'Pye',\n",
       " 'to',\n",
       " 'investigate',\n",
       " 'reports',\n",
       " 'of',\n",
       " 'possible',\n",
       " '``',\n",
       " 'irregularities',\n",
       " \"''\",\n",
       " 'in',\n",
       " 'the',\n",
       " 'hard-fought',\n",
       " 'primary',\n",
       " 'which',\n",
       " 'was',\n",
       " 'won',\n",
       " 'by',\n",
       " 'Mayor-nominate',\n",
       " 'Ivan',\n",
       " 'Allen',\n",
       " 'Jr.',\n",
       " '.',\n",
       " '``',\n",
       " 'Only',\n",
       " 'a',\n",
       " 'relative',\n",
       " 'handful',\n",
       " 'of',\n",
       " 'such',\n",
       " 'reports',\n",
       " 'was',\n",
       " 'received',\n",
       " \"''\",\n",
       " ',',\n",
       " 'the',\n",
       " 'jury',\n",
       " 'said',\n",
       " ',',\n",
       " '``',\n",
       " 'considering',\n",
       " 'the',\n",
       " 'widespread',\n",
       " 'interest',\n",
       " 'in',\n",
       " 'the',\n",
       " 'election',\n",
       " ',',\n",
       " 'the',\n",
       " 'number',\n",
       " 'of',\n",
       " 'voters',\n",
       " 'and',\n",
       " 'the',\n",
       " 'size',\n",
       " 'of',\n",
       " 'this',\n",
       " 'city',\n",
       " \"''\",\n",
       " '.',\n",
       " 'The',\n",
       " 'jury',\n",
       " 'said',\n",
       " 'it',\n",
       " 'did',\n",
       " 'find',\n",
       " 'that',\n",
       " 'many',\n",
       " 'of',\n",
       " \"Georgia's\",\n",
       " 'registration',\n",
       " 'and',\n",
       " 'election',\n",
       " 'laws',\n",
       " '``',\n",
       " 'are',\n",
       " 'outmoded',\n",
       " 'or',\n",
       " 'inadequate',\n",
       " 'and',\n",
       " 'often',\n",
       " 'ambiguous',\n",
       " \"''\",\n",
       " '.',\n",
       " 'It',\n",
       " 'recommended',\n",
       " 'that',\n",
       " 'Fulton',\n",
       " 'legislators',\n",
       " 'act',\n",
       " '``',\n",
       " 'to',\n",
       " 'have',\n",
       " 'these',\n",
       " 'laws',\n",
       " 'studied',\n",
       " 'and',\n",
       " 'revised',\n",
       " 'to',\n",
       " 'the',\n",
       " 'end',\n",
       " 'of',\n",
       " 'modernizing',\n",
       " 'and',\n",
       " 'improving',\n",
       " 'them',\n",
       " \"''\",\n",
       " '.',\n",
       " 'The',\n",
       " 'grand',\n",
       " 'jury',\n",
       " 'commented',\n",
       " 'on',\n",
       " 'a',\n",
       " 'number',\n",
       " 'of',\n",
       " 'other',\n",
       " 'topics',\n",
       " ',',\n",
       " 'among',\n",
       " 'them',\n",
       " 'the',\n",
       " 'Atlanta',\n",
       " 'and',\n",
       " 'Fulton',\n",
       " 'County',\n",
       " 'purchasing',\n",
       " 'departments',\n",
       " 'which',\n",
       " 'it',\n",
       " 'said',\n",
       " '``',\n",
       " 'are',\n",
       " 'well',\n",
       " 'operated',\n",
       " 'and',\n",
       " 'follow',\n",
       " 'generally',\n",
       " 'accepted',\n",
       " 'practices',\n",
       " 'which',\n",
       " 'inure',\n",
       " 'to',\n",
       " 'the',\n",
       " 'best',\n",
       " 'interest',\n",
       " 'of',\n",
       " 'both',\n",
       " 'governments',\n",
       " \"''\",\n",
       " '.',\n",
       " 'Merger',\n",
       " 'proposed',\n",
       " 'However',\n",
       " ',',\n",
       " 'the',\n",
       " 'jury',\n",
       " 'said',\n",
       " 'it',\n",
       " 'believes',\n",
       " '``',\n",
       " 'these',\n",
       " 'two',\n",
       " 'offices',\n",
       " 'should',\n",
       " 'be',\n",
       " 'combined',\n",
       " 'to',\n",
       " 'achieve',\n",
       " 'greater',\n",
       " 'efficiency',\n",
       " 'and',\n",
       " 'reduce',\n",
       " 'the',\n",
       " 'cost',\n",
       " 'of',\n",
       " 'administration',\n",
       " \"''\",\n",
       " '.',\n",
       " 'The',\n",
       " 'City',\n",
       " 'Purchasing',\n",
       " 'Department',\n",
       " ',',\n",
       " 'the',\n",
       " 'jury',\n",
       " 'said',\n",
       " ',',\n",
       " '``',\n",
       " 'is',\n",
       " 'lacking',\n",
       " 'in',\n",
       " 'experienced',\n",
       " 'clerical',\n",
       " 'personnel',\n",
       " 'as',\n",
       " 'a',\n",
       " 'result',\n",
       " 'of',\n",
       " 'city',\n",
       " 'personnel',\n",
       " 'policies',\n",
       " \"''\",\n",
       " '.',\n",
       " 'It',\n",
       " 'urged',\n",
       " 'that',\n",
       " 'the',\n",
       " 'city',\n",
       " '``',\n",
       " 'take',\n",
       " 'steps',\n",
       " 'to',\n",
       " 'remedy',\n",
       " \"''\",\n",
       " 'this',\n",
       " 'problem',\n",
       " '.',\n",
       " 'Implementation',\n",
       " 'of',\n",
       " \"Georgia's\",\n",
       " 'automobile',\n",
       " 'title',\n",
       " 'law',\n",
       " 'was',\n",
       " 'also',\n",
       " 'recommended',\n",
       " 'by',\n",
       " 'the',\n",
       " 'outgoing',\n",
       " 'jury',\n",
       " '.',\n",
       " 'It',\n",
       " 'urged',\n",
       " 'that',\n",
       " 'the',\n",
       " 'next',\n",
       " 'Legislature',\n",
       " '``',\n",
       " 'provide',\n",
       " 'enabling',\n",
       " 'funds',\n",
       " 'and',\n",
       " 're-set',\n",
       " 'the',\n",
       " 'effective',\n",
       " 'date',\n",
       " 'so',\n",
       " 'that',\n",
       " 'an',\n",
       " 'orderly',\n",
       " 'implementation',\n",
       " 'of',\n",
       " 'the',\n",
       " 'law',\n",
       " 'may',\n",
       " 'be',\n",
       " 'effected',\n",
       " \"''\",\n",
       " '.',\n",
       " 'The',\n",
       " 'grand',\n",
       " 'jury',\n",
       " 'took',\n",
       " 'a',\n",
       " 'swipe',\n",
       " 'at',\n",
       " 'the',\n",
       " 'State',\n",
       " 'Welfare',\n",
       " \"Department's\",\n",
       " 'handling',\n",
       " 'of',\n",
       " 'federal',\n",
       " 'funds',\n",
       " 'granted',\n",
       " 'for',\n",
       " 'child',\n",
       " 'welfare',\n",
       " 'services',\n",
       " 'in',\n",
       " 'foster',\n",
       " 'homes',\n",
       " '.',\n",
       " '``',\n",
       " 'This',\n",
       " 'is',\n",
       " 'one',\n",
       " 'of',\n",
       " 'the',\n",
       " 'major',\n",
       " 'items',\n",
       " 'in',\n",
       " 'the',\n",
       " 'Fulton',\n",
       " 'County',\n",
       " 'general',\n",
       " 'assistance',\n",
       " 'program',\n",
       " \"''\",\n",
       " ',',\n",
       " 'the',\n",
       " 'jury',\n",
       " 'said',\n",
       " ',',\n",
       " 'but',\n",
       " 'the',\n",
       " 'State',\n",
       " 'Welfare',\n",
       " 'Department',\n",
       " '``',\n",
       " 'has',\n",
       " 'seen',\n",
       " 'fit',\n",
       " 'to',\n",
       " 'distribute',\n",
       " 'these',\n",
       " 'funds',\n",
       " 'through',\n",
       " 'the',\n",
       " 'welfare',\n",
       " 'departments',\n",
       " 'of',\n",
       " 'all',\n",
       " 'the',\n",
       " 'counties',\n",
       " 'in',\n",
       " 'the',\n",
       " 'state',\n",
       " 'with',\n",
       " 'the',\n",
       " 'exception',\n",
       " 'of',\n",
       " 'Fulton',\n",
       " 'County',\n",
       " ',',\n",
       " 'which',\n",
       " 'receives',\n",
       " 'none',\n",
       " 'of',\n",
       " 'this',\n",
       " 'money',\n",
       " '.',\n",
       " 'The',\n",
       " 'jurors',\n",
       " 'said',\n",
       " 'they',\n",
       " 'realize',\n",
       " '``',\n",
       " 'a',\n",
       " 'proportionate',\n",
       " 'distribution',\n",
       " 'of',\n",
       " 'these',\n",
       " 'funds',\n",
       " 'might',\n",
       " 'disable',\n",
       " 'this',\n",
       " 'program',\n",
       " 'in',\n",
       " 'our',\n",
       " 'less',\n",
       " 'populous',\n",
       " 'counties',\n",
       " \"''\",\n",
       " '.',\n",
       " 'Nevertheless',\n",
       " ',',\n",
       " '``',\n",
       " 'we',\n",
       " 'feel',\n",
       " 'that',\n",
       " 'in',\n",
       " 'the',\n",
       " 'future',\n",
       " 'Fulton',\n",
       " 'County',\n",
       " 'should',\n",
       " 'receive',\n",
       " 'some',\n",
       " 'portion',\n",
       " 'of',\n",
       " 'these',\n",
       " 'available',\n",
       " 'funds',\n",
       " \"''\",\n",
       " ',',\n",
       " 'the',\n",
       " 'jurors',\n",
       " 'said',\n",
       " '.',\n",
       " '``',\n",
       " 'Failure',\n",
       " 'to',\n",
       " 'do',\n",
       " 'this',\n",
       " 'will',\n",
       " 'continue',\n",
       " 'to',\n",
       " 'place',\n",
       " 'a',\n",
       " 'disproportionate',\n",
       " 'burden',\n",
       " \"''\",\n",
       " 'on',\n",
       " 'Fulton',\n",
       " 'taxpayers',\n",
       " '.',\n",
       " 'The',\n",
       " 'jury',\n",
       " 'also',\n",
       " 'commented',\n",
       " 'on',\n",
       " 'the',\n",
       " 'Fulton',\n",
       " \"ordinary's\",\n",
       " 'court',\n",
       " 'which',\n",
       " 'has',\n",
       " 'been',\n",
       " 'under',\n",
       " 'fire',\n",
       " 'for',\n",
       " 'its',\n",
       " 'practices',\n",
       " 'in',\n",
       " 'the',\n",
       " 'appointment',\n",
       " 'of',\n",
       " 'appraisers',\n",
       " ',',\n",
       " 'guardians',\n",
       " 'and',\n",
       " 'administrators',\n",
       " 'and',\n",
       " 'the',\n",
       " 'awarding',\n",
       " 'of',\n",
       " 'fees',\n",
       " 'and',\n",
       " 'compensation',\n",
       " '.',\n",
       " 'Wards',\n",
       " 'protected',\n",
       " 'The',\n",
       " 'jury',\n",
       " 'said',\n",
       " 'it',\n",
       " 'found',\n",
       " 'the',\n",
       " 'court',\n",
       " '``',\n",
       " 'has',\n",
       " 'incorporated',\n",
       " 'into',\n",
       " 'its',\n",
       " 'operating',\n",
       " 'procedures',\n",
       " 'the',\n",
       " 'recommendations',\n",
       " \"''\",\n",
       " 'of',\n",
       " 'two',\n",
       " 'previous',\n",
       " 'grand',\n",
       " 'juries',\n",
       " ',',\n",
       " 'the',\n",
       " 'Atlanta',\n",
       " 'Bar',\n",
       " 'Association',\n",
       " 'and',\n",
       " 'an',\n",
       " 'interim',\n",
       " 'citizens',\n",
       " 'committee',\n",
       " '.',\n",
       " '``',\n",
       " 'These',\n",
       " 'actions',\n",
       " 'should',\n",
       " 'serve',\n",
       " 'to',\n",
       " 'protect',\n",
       " 'in',\n",
       " 'fact',\n",
       " 'and',\n",
       " 'in',\n",
       " 'effect',\n",
       " 'the',\n",
       " \"court's\",\n",
       " 'wards',\n",
       " 'from',\n",
       " 'undue',\n",
       " 'costs',\n",
       " 'and',\n",
       " 'its',\n",
       " 'appointed',\n",
       " 'and',\n",
       " 'elected',\n",
       " 'servants',\n",
       " 'from',\n",
       " 'unmeritorious',\n",
       " 'criticisms',\n",
       " \"''\",\n",
       " ',',\n",
       " 'the',\n",
       " 'jury',\n",
       " 'said',\n",
       " '.',\n",
       " 'Regarding',\n",
       " \"Atlanta's\",\n",
       " 'new',\n",
       " 'multi-million-dollar',\n",
       " 'airport',\n",
       " ',',\n",
       " 'the',\n",
       " 'jury',\n",
       " 'recommended',\n",
       " '``',\n",
       " 'that',\n",
       " 'when',\n",
       " 'the',\n",
       " 'new',\n",
       " 'management',\n",
       " 'takes',\n",
       " 'charge',\n",
       " 'Jan.',\n",
       " '1',\n",
       " 'the',\n",
       " 'airport',\n",
       " 'be',\n",
       " 'operated',\n",
       " 'in',\n",
       " 'a',\n",
       " 'manner',\n",
       " 'that',\n",
       " 'will',\n",
       " 'eliminate',\n",
       " 'political',\n",
       " 'influences',\n",
       " \"''\",\n",
       " '.',\n",
       " 'The',\n",
       " 'jury',\n",
       " 'did',\n",
       " 'not',\n",
       " 'elaborate',\n",
       " ',',\n",
       " 'but',\n",
       " 'it',\n",
       " 'added',\n",
       " 'that',\n",
       " '``',\n",
       " 'there',\n",
       " 'should',\n",
       " 'be',\n",
       " 'periodic',\n",
       " 'surveillance',\n",
       " 'of',\n",
       " 'the',\n",
       " 'pricing',\n",
       " 'practices',\n",
       " 'of',\n",
       " 'the',\n",
       " 'concessionaires',\n",
       " 'for',\n",
       " 'the',\n",
       " 'purpose',\n",
       " 'of',\n",
       " 'keeping',\n",
       " 'the',\n",
       " 'prices',\n",
       " 'reasonable',\n",
       " \"''\",\n",
       " '.',\n",
       " 'Ask',\n",
       " 'jail',\n",
       " 'deputies',\n",
       " 'On',\n",
       " 'other',\n",
       " 'matters',\n",
       " ',',\n",
       " 'the',\n",
       " 'jury',\n",
       " 'recommended',\n",
       " 'that',\n",
       " ':',\n",
       " '(',\n",
       " '1',\n",
       " ')',\n",
       " 'Four',\n",
       " 'additional',\n",
       " 'deputies',\n",
       " 'be',\n",
       " 'employed',\n",
       " 'at',\n",
       " 'the',\n",
       " 'Fulton',\n",
       " 'County',\n",
       " 'Jail',\n",
       " 'and',\n",
       " '``',\n",
       " 'a',\n",
       " 'doctor',\n",
       " ',',\n",
       " 'medical',\n",
       " 'intern',\n",
       " 'or',\n",
       " 'extern',\n",
       " 'be',\n",
       " 'employed',\n",
       " 'for',\n",
       " 'night',\n",
       " 'and',\n",
       " 'weekend',\n",
       " 'duty',\n",
       " 'at',\n",
       " 'the',\n",
       " 'jail',\n",
       " \"''\",\n",
       " '.',\n",
       " '(',\n",
       " '2',\n",
       " ')',\n",
       " 'Fulton',\n",
       " 'legislators',\n",
       " '``',\n",
       " 'work',\n",
       " 'with',\n",
       " 'city',\n",
       " 'officials',\n",
       " 'to',\n",
       " 'pass',\n",
       " 'enabling',\n",
       " 'legislation',\n",
       " 'that',\n",
       " 'will',\n",
       " 'permit',\n",
       " 'the',\n",
       " 'establishment',\n",
       " 'of',\n",
       " 'a',\n",
       " 'fair',\n",
       " 'and',\n",
       " 'equitable',\n",
       " \"''\",\n",
       " 'pension',\n",
       " 'plan',\n",
       " 'for',\n",
       " 'city',\n",
       " 'employes',\n",
       " '.',\n",
       " 'The',\n",
       " 'jury',\n",
       " 'praised',\n",
       " 'the',\n",
       " 'administration',\n",
       " 'and',\n",
       " 'operation',\n",
       " 'of',\n",
       " 'the',\n",
       " 'Atlanta',\n",
       " 'Police',\n",
       " 'Department',\n",
       " ',',\n",
       " 'the',\n",
       " 'Fulton',\n",
       " 'Tax',\n",
       " \"Commissioner's\",\n",
       " 'Office',\n",
       " ',',\n",
       " 'the',\n",
       " 'Bellwood',\n",
       " 'and',\n",
       " 'Alpharetta',\n",
       " 'prison',\n",
       " 'farms',\n",
       " ',',\n",
       " 'Grady',\n",
       " 'Hospital',\n",
       " 'and',\n",
       " 'the',\n",
       " 'Fulton',\n",
       " 'Health',\n",
       " 'Department',\n",
       " '.',\n",
       " 'Mayor',\n",
       " 'William',\n",
       " 'B.',\n",
       " 'Hartsfield',\n",
       " 'filed',\n",
       " 'suit',\n",
       " 'for',\n",
       " 'divorce',\n",
       " 'from',\n",
       " 'his',\n",
       " 'wife',\n",
       " ',',\n",
       " 'Pearl',\n",
       " 'Williams',\n",
       " 'Hartsfield',\n",
       " ',',\n",
       " 'in',\n",
       " 'Fulton',\n",
       " 'Superior',\n",
       " 'Court',\n",
       " 'Friday',\n",
       " '.',\n",
       " 'His',\n",
       " 'petition',\n",
       " 'charged',\n",
       " 'mental',\n",
       " 'cruelty',\n",
       " '.',\n",
       " 'The',\n",
       " 'couple',\n",
       " 'was',\n",
       " 'married',\n",
       " 'Aug.',\n",
       " '2',\n",
       " ',',\n",
       " '1913',\n",
       " '.',\n",
       " 'They',\n",
       " 'have',\n",
       " 'a',\n",
       " 'son',\n",
       " ',',\n",
       " 'William',\n",
       " 'Berry',\n",
       " 'Jr.',\n",
       " ',',\n",
       " 'and',\n",
       " 'a',\n",
       " 'daughter',\n",
       " ',',\n",
       " 'Mrs.',\n",
       " 'J.',\n",
       " 'M.',\n",
       " 'Cheshire',\n",
       " 'of',\n",
       " 'Griffin',\n",
       " '.',\n",
       " 'Attorneys',\n",
       " 'for',\n",
       " 'the',\n",
       " 'mayor',\n",
       " 'said',\n",
       " 'that',\n",
       " 'an',\n",
       " 'amicable',\n",
       " 'property',\n",
       " 'settlement',\n",
       " 'has',\n",
       " 'been',\n",
       " 'agreed',\n",
       " 'upon',\n",
       " '.',\n",
       " 'The',\n",
       " 'petition',\n",
       " 'listed',\n",
       " 'the',\n",
       " \"mayor's\",\n",
       " 'occupation',\n",
       " 'as',\n",
       " '``',\n",
       " 'attorney',\n",
       " \"''\",\n",
       " 'and',\n",
       " 'his',\n",
       " 'age',\n",
       " 'as',\n",
       " '71',\n",
       " '.',\n",
       " 'It',\n",
       " 'listed',\n",
       " 'his',\n",
       " \"wife's\",\n",
       " 'age',\n",
       " 'as',\n",
       " '74',\n",
       " 'and',\n",
       " 'place',\n",
       " 'of',\n",
       " 'birth',\n",
       " 'as',\n",
       " 'Opelika',\n",
       " ',',\n",
       " 'Ala.',\n",
       " '.',\n",
       " 'The',\n",
       " 'petition',\n",
       " 'said',\n",
       " 'that',\n",
       " 'the',\n",
       " 'couple',\n",
       " 'has',\n",
       " 'not',\n",
       " 'lived',\n",
       " 'together',\n",
       " 'as',\n",
       " 'man',\n",
       " 'and',\n",
       " 'wife',\n",
       " 'for',\n",
       " 'more',\n",
       " 'than',\n",
       " 'a',\n",
       " 'year',\n",
       " '.',\n",
       " 'The',\n",
       " 'Hartsfield',\n",
       " 'home',\n",
       " 'is',\n",
       " 'at',\n",
       " '637',\n",
       " 'E.',\n",
       " 'Pelham',\n",
       " 'Rd.',\n",
       " 'Aj',\n",
       " '.',\n",
       " 'Henry',\n",
       " 'L.',\n",
       " 'Bowden',\n",
       " 'was',\n",
       " 'listed',\n",
       " 'on',\n",
       " 'the',\n",
       " 'petition',\n",
       " 'as',\n",
       " 'the',\n",
       " \"mayor's\",\n",
       " 'attorney',\n",
       " '.',\n",
       " 'Hartsfield',\n",
       " 'has',\n",
       " 'been',\n",
       " 'mayor',\n",
       " 'of',\n",
       " 'Atlanta',\n",
       " ',',\n",
       " 'with',\n",
       " 'exception',\n",
       " 'of',\n",
       " 'one',\n",
       " 'brief',\n",
       " 'interlude',\n",
       " ',',\n",
       " 'since',\n",
       " '1937',\n",
       " '.',\n",
       " 'His',\n",
       " 'political',\n",
       " 'career',\n",
       " 'goes',\n",
       " 'back',\n",
       " 'to',\n",
       " 'his',\n",
       " 'election',\n",
       " 'to',\n",
       " 'city',\n",
       " 'council',\n",
       " 'in',\n",
       " '1923',\n",
       " '.',\n",
       " 'The',\n",
       " \"mayor's\",\n",
       " 'present',\n",
       " 'term',\n",
       " 'of',\n",
       " 'office',\n",
       " 'expires',\n",
       " 'Jan.',\n",
       " '1',\n",
       " '.',\n",
       " 'He',\n",
       " 'will',\n",
       " 'be',\n",
       " 'succeeded',\n",
       " 'by',\n",
       " 'Ivan',\n",
       " 'Allen',\n",
       " 'Jr.',\n",
       " ',',\n",
       " 'who',\n",
       " 'became',\n",
       " 'a',\n",
       " 'candidate',\n",
       " 'in',\n",
       " 'the',\n",
       " 'Sept.',\n",
       " '13',\n",
       " 'primary',\n",
       " 'after',\n",
       " 'Mayor',\n",
       " 'Hartsfield',\n",
       " 'announced',\n",
       " 'that',\n",
       " 'he',\n",
       " 'would',\n",
       " 'not',\n",
       " 'run',\n",
       " 'for',\n",
       " 'reelection',\n",
       " '.',\n",
       " 'Georgia',\n",
       " 'Republicans',\n",
       " 'are',\n",
       " 'getting',\n",
       " 'strong',\n",
       " 'encouragement',\n",
       " 'to',\n",
       " 'enter',\n",
       " 'a',\n",
       " 'candidate',\n",
       " 'in',\n",
       " 'the',\n",
       " '1962',\n",
       " \"governor's\",\n",
       " ...)"
      ]
     },
     "execution_count": 164,
     "metadata": {},
     "output_type": "execute_result"
    }
   ],
   "source": [
    "tokens"
   ]
  },
  {
   "cell_type": "markdown",
   "metadata": {
    "nbpresent": {
     "id": "26842f69-cc6e-46d5-9838-d626c32a9c31"
    }
   },
   "source": [
    "You can print the *tags* as well:"
   ]
  },
  {
   "cell_type": "code",
   "execution_count": 185,
   "metadata": {
    "nbpresent": {
     "id": "35384dca-0220-473a-a2c0-8ddc674eb5f9"
    },
    "scrolled": true
   },
   "outputs": [
    {
     "data": {
      "text/plain": [
       "('AT',\n",
       " 'NP-TL',\n",
       " 'NN-TL',\n",
       " 'JJ-TL',\n",
       " 'NN-TL',\n",
       " 'VBD',\n",
       " 'NR',\n",
       " 'AT',\n",
       " 'NN',\n",
       " 'IN',\n",
       " 'NP$',\n",
       " 'JJ',\n",
       " 'NN',\n",
       " 'NN',\n",
       " 'VBD',\n",
       " '``',\n",
       " 'AT',\n",
       " 'NN',\n",
       " \"''\",\n",
       " 'CS',\n",
       " 'DTI',\n",
       " 'NNS',\n",
       " 'VBD',\n",
       " 'NN',\n",
       " '.',\n",
       " 'AT',\n",
       " 'NN',\n",
       " 'RBR',\n",
       " 'VBD',\n",
       " 'IN',\n",
       " 'NN',\n",
       " 'NNS',\n",
       " 'CS',\n",
       " 'AT',\n",
       " 'NN-TL',\n",
       " 'JJ-TL',\n",
       " 'NN-TL',\n",
       " ',',\n",
       " 'WDT',\n",
       " 'HVD',\n",
       " 'JJ',\n",
       " 'NN',\n",
       " 'IN',\n",
       " 'AT',\n",
       " 'NN',\n",
       " ',',\n",
       " '``',\n",
       " 'VBZ',\n",
       " 'AT',\n",
       " 'NN',\n",
       " 'CC',\n",
       " 'NNS',\n",
       " 'IN',\n",
       " 'AT',\n",
       " 'NN-TL',\n",
       " 'IN-TL',\n",
       " 'NP-TL',\n",
       " \"''\",\n",
       " 'IN',\n",
       " 'AT',\n",
       " 'NN',\n",
       " 'IN',\n",
       " 'WDT',\n",
       " 'AT',\n",
       " 'NN',\n",
       " 'BEDZ',\n",
       " 'VBN',\n",
       " '.',\n",
       " 'AT',\n",
       " 'NP',\n",
       " 'NN',\n",
       " 'NN',\n",
       " 'HVD',\n",
       " 'BEN',\n",
       " 'VBN',\n",
       " 'IN',\n",
       " 'NP-TL',\n",
       " 'JJ-TL',\n",
       " 'NN-TL',\n",
       " 'NN-TL',\n",
       " 'NP',\n",
       " 'NP',\n",
       " 'TO',\n",
       " 'VB',\n",
       " 'NNS',\n",
       " 'IN',\n",
       " 'JJ',\n",
       " '``',\n",
       " 'NNS',\n",
       " \"''\",\n",
       " 'IN',\n",
       " 'AT',\n",
       " 'JJ',\n",
       " 'NN',\n",
       " 'WDT',\n",
       " 'BEDZ',\n",
       " 'VBN',\n",
       " 'IN',\n",
       " 'NN-TL',\n",
       " 'NP',\n",
       " 'NP',\n",
       " 'NP',\n",
       " '.',\n",
       " '``',\n",
       " 'RB',\n",
       " 'AT',\n",
       " 'JJ',\n",
       " 'NN',\n",
       " 'IN',\n",
       " 'JJ',\n",
       " 'NNS',\n",
       " 'BEDZ',\n",
       " 'VBN',\n",
       " \"''\",\n",
       " ',',\n",
       " 'AT',\n",
       " 'NN',\n",
       " 'VBD',\n",
       " ',',\n",
       " '``',\n",
       " 'IN',\n",
       " 'AT',\n",
       " 'JJ',\n",
       " 'NN',\n",
       " 'IN',\n",
       " 'AT',\n",
       " 'NN',\n",
       " ',',\n",
       " 'AT',\n",
       " 'NN',\n",
       " 'IN',\n",
       " 'NNS',\n",
       " 'CC',\n",
       " 'AT',\n",
       " 'NN',\n",
       " 'IN',\n",
       " 'DT',\n",
       " 'NN',\n",
       " \"''\",\n",
       " '.',\n",
       " 'AT',\n",
       " 'NN',\n",
       " 'VBD',\n",
       " 'PPS',\n",
       " 'DOD',\n",
       " 'VB',\n",
       " 'CS',\n",
       " 'AP',\n",
       " 'IN',\n",
       " 'NP$',\n",
       " 'NN',\n",
       " 'CC',\n",
       " 'NN',\n",
       " 'NNS',\n",
       " '``',\n",
       " 'BER',\n",
       " 'JJ',\n",
       " 'CC',\n",
       " 'JJ',\n",
       " 'CC',\n",
       " 'RB',\n",
       " 'JJ',\n",
       " \"''\",\n",
       " '.',\n",
       " 'PPS',\n",
       " 'VBD',\n",
       " 'CS',\n",
       " 'NP',\n",
       " 'NNS',\n",
       " 'VB',\n",
       " '``',\n",
       " 'TO',\n",
       " 'HV',\n",
       " 'DTS',\n",
       " 'NNS',\n",
       " 'VBN',\n",
       " 'CC',\n",
       " 'VBN',\n",
       " 'IN',\n",
       " 'AT',\n",
       " 'NN',\n",
       " 'IN',\n",
       " 'VBG',\n",
       " 'CC',\n",
       " 'VBG',\n",
       " 'PPO',\n",
       " \"''\",\n",
       " '.',\n",
       " 'AT',\n",
       " 'JJ',\n",
       " 'NN',\n",
       " 'VBD',\n",
       " 'IN',\n",
       " 'AT',\n",
       " 'NN',\n",
       " 'IN',\n",
       " 'AP',\n",
       " 'NNS',\n",
       " ',',\n",
       " 'IN',\n",
       " 'PPO',\n",
       " 'AT',\n",
       " 'NP',\n",
       " 'CC',\n",
       " 'NP-TL',\n",
       " 'NN-TL',\n",
       " 'VBG',\n",
       " 'NNS',\n",
       " 'WDT',\n",
       " 'PPS',\n",
       " 'VBD',\n",
       " '``',\n",
       " 'BER',\n",
       " 'QL',\n",
       " 'VBN',\n",
       " 'CC',\n",
       " 'VB',\n",
       " 'RB',\n",
       " 'VBN',\n",
       " 'NNS',\n",
       " 'WDT',\n",
       " 'VB',\n",
       " 'IN',\n",
       " 'AT',\n",
       " 'JJT',\n",
       " 'NN',\n",
       " 'IN',\n",
       " 'ABX',\n",
       " 'NNS',\n",
       " \"''\",\n",
       " '.',\n",
       " 'NN-HL',\n",
       " 'VBN-HL',\n",
       " 'WRB',\n",
       " ',',\n",
       " 'AT',\n",
       " 'NN',\n",
       " 'VBD',\n",
       " 'PPS',\n",
       " 'VBZ',\n",
       " '``',\n",
       " 'DTS',\n",
       " 'CD',\n",
       " 'NNS',\n",
       " 'MD',\n",
       " 'BE',\n",
       " 'VBN',\n",
       " 'TO',\n",
       " 'VB',\n",
       " 'JJR',\n",
       " 'NN',\n",
       " 'CC',\n",
       " 'VB',\n",
       " 'AT',\n",
       " 'NN',\n",
       " 'IN',\n",
       " 'NN',\n",
       " \"''\",\n",
       " '.',\n",
       " 'AT',\n",
       " 'NN-TL',\n",
       " 'VBG-TL',\n",
       " 'NN-TL',\n",
       " ',',\n",
       " 'AT',\n",
       " 'NN',\n",
       " 'VBD',\n",
       " ',',\n",
       " '``',\n",
       " 'BEZ',\n",
       " 'VBG',\n",
       " 'IN',\n",
       " 'VBN',\n",
       " 'JJ',\n",
       " 'NNS',\n",
       " 'CS',\n",
       " 'AT',\n",
       " 'NN',\n",
       " 'IN',\n",
       " 'NN',\n",
       " 'NNS',\n",
       " 'NNS',\n",
       " \"''\",\n",
       " '.',\n",
       " 'PPS',\n",
       " 'VBD',\n",
       " 'CS',\n",
       " 'AT',\n",
       " 'NN',\n",
       " '``',\n",
       " 'VB',\n",
       " 'NNS',\n",
       " 'TO',\n",
       " 'VB',\n",
       " \"''\",\n",
       " 'DT',\n",
       " 'NN',\n",
       " '.',\n",
       " 'NN',\n",
       " 'IN',\n",
       " 'NP$',\n",
       " 'NN',\n",
       " 'NN',\n",
       " 'NN',\n",
       " 'BEDZ',\n",
       " 'RB',\n",
       " 'VBN',\n",
       " 'IN',\n",
       " 'AT',\n",
       " 'JJ',\n",
       " 'NN',\n",
       " '.',\n",
       " 'PPS',\n",
       " 'VBD',\n",
       " 'CS',\n",
       " 'AT',\n",
       " 'AP',\n",
       " 'NN-TL',\n",
       " '``',\n",
       " 'VB',\n",
       " 'VBG',\n",
       " 'NNS',\n",
       " 'CC',\n",
       " 'VB',\n",
       " 'AT',\n",
       " 'JJ',\n",
       " 'NN',\n",
       " 'CS',\n",
       " 'CS',\n",
       " 'AT',\n",
       " 'JJ',\n",
       " 'NN',\n",
       " 'IN',\n",
       " 'AT',\n",
       " 'NN',\n",
       " 'MD',\n",
       " 'BE',\n",
       " 'VBN',\n",
       " \"''\",\n",
       " '.',\n",
       " 'AT',\n",
       " 'JJ',\n",
       " 'NN',\n",
       " 'VBD',\n",
       " 'AT',\n",
       " 'NN',\n",
       " 'IN',\n",
       " 'AT',\n",
       " 'NN-TL',\n",
       " 'NN-TL',\n",
       " 'NN$-TL',\n",
       " 'NN',\n",
       " 'IN',\n",
       " 'JJ',\n",
       " 'NNS',\n",
       " 'VBN',\n",
       " 'IN',\n",
       " 'NN',\n",
       " 'NN',\n",
       " 'NNS',\n",
       " 'IN',\n",
       " 'JJ',\n",
       " 'NNS',\n",
       " '.',\n",
       " '``',\n",
       " 'DT',\n",
       " 'BEZ',\n",
       " 'CD',\n",
       " 'IN',\n",
       " 'AT',\n",
       " 'JJ',\n",
       " 'NNS',\n",
       " 'IN',\n",
       " 'AT',\n",
       " 'NP-TL',\n",
       " 'NN-TL',\n",
       " 'JJ',\n",
       " 'NN',\n",
       " 'NN',\n",
       " \"''\",\n",
       " ',',\n",
       " 'AT',\n",
       " 'NN',\n",
       " 'VBD',\n",
       " ',',\n",
       " 'CC',\n",
       " 'AT',\n",
       " 'NN-TL',\n",
       " 'NN-TL',\n",
       " 'NN-TL',\n",
       " '``',\n",
       " 'HVZ',\n",
       " 'VBN',\n",
       " 'JJ',\n",
       " 'TO',\n",
       " 'VB',\n",
       " 'DTS',\n",
       " 'NNS',\n",
       " 'IN',\n",
       " 'AT',\n",
       " 'NN',\n",
       " 'NNS',\n",
       " 'IN',\n",
       " 'ABN',\n",
       " 'AT',\n",
       " 'NNS',\n",
       " 'IN',\n",
       " 'AT',\n",
       " 'NN',\n",
       " 'IN',\n",
       " 'AT',\n",
       " 'NN',\n",
       " 'IN',\n",
       " 'NP-TL',\n",
       " 'NN-TL',\n",
       " ',',\n",
       " 'WDT',\n",
       " 'VBZ',\n",
       " 'PN',\n",
       " 'IN',\n",
       " 'DT',\n",
       " 'NN',\n",
       " '.',\n",
       " 'AT',\n",
       " 'NNS',\n",
       " 'VBD',\n",
       " 'PPSS',\n",
       " 'VB',\n",
       " '``',\n",
       " 'AT',\n",
       " 'JJ',\n",
       " 'NN',\n",
       " 'IN',\n",
       " 'DTS',\n",
       " 'NNS',\n",
       " 'MD',\n",
       " 'VB',\n",
       " 'DT',\n",
       " 'NN',\n",
       " 'IN',\n",
       " 'PP$',\n",
       " 'QL',\n",
       " 'JJ',\n",
       " 'NNS',\n",
       " \"''\",\n",
       " '.',\n",
       " 'RB',\n",
       " ',',\n",
       " '``',\n",
       " 'PPSS',\n",
       " 'VB',\n",
       " 'CS',\n",
       " 'IN',\n",
       " 'AT',\n",
       " 'NN',\n",
       " 'NP-TL',\n",
       " 'NN-TL',\n",
       " 'MD',\n",
       " 'VB',\n",
       " 'DTI',\n",
       " 'NN',\n",
       " 'IN',\n",
       " 'DTS',\n",
       " 'JJ',\n",
       " 'NNS',\n",
       " \"''\",\n",
       " ',',\n",
       " 'AT',\n",
       " 'NNS',\n",
       " 'VBD',\n",
       " '.',\n",
       " '``',\n",
       " 'NN',\n",
       " 'TO',\n",
       " 'DO',\n",
       " 'DT',\n",
       " 'MD',\n",
       " 'VB',\n",
       " 'TO',\n",
       " 'VB',\n",
       " 'AT',\n",
       " 'JJ',\n",
       " 'NN',\n",
       " \"''\",\n",
       " 'IN',\n",
       " 'NP',\n",
       " 'NNS',\n",
       " '.',\n",
       " 'AT',\n",
       " 'NN',\n",
       " 'RB',\n",
       " 'VBD',\n",
       " 'IN',\n",
       " 'AT',\n",
       " 'NP',\n",
       " 'NN$',\n",
       " 'NN',\n",
       " 'WDT',\n",
       " 'HVZ',\n",
       " 'BEN',\n",
       " 'IN',\n",
       " 'NN',\n",
       " 'IN',\n",
       " 'PP$',\n",
       " 'NNS',\n",
       " 'IN',\n",
       " 'AT',\n",
       " 'NN',\n",
       " 'IN',\n",
       " 'NNS',\n",
       " ',',\n",
       " 'NNS',\n",
       " 'CC',\n",
       " 'NNS',\n",
       " 'CC',\n",
       " 'AT',\n",
       " 'NN',\n",
       " 'IN',\n",
       " 'NNS',\n",
       " 'CC',\n",
       " 'NN',\n",
       " '.',\n",
       " 'NNS-HL',\n",
       " 'VBN-HL',\n",
       " 'AT',\n",
       " 'NN',\n",
       " 'VBD',\n",
       " 'PPS',\n",
       " 'VBD',\n",
       " 'AT',\n",
       " 'NN',\n",
       " '``',\n",
       " 'HVZ',\n",
       " 'VBN',\n",
       " 'IN',\n",
       " 'PP$',\n",
       " 'VBG',\n",
       " 'NNS',\n",
       " 'AT',\n",
       " 'NNS',\n",
       " \"''\",\n",
       " 'IN',\n",
       " 'CD',\n",
       " 'JJ',\n",
       " 'JJ',\n",
       " 'NNS',\n",
       " ',',\n",
       " 'AT',\n",
       " 'NP-TL',\n",
       " 'NN-TL',\n",
       " 'NN-TL',\n",
       " 'CC',\n",
       " 'AT',\n",
       " 'NN',\n",
       " 'NNS',\n",
       " 'NN',\n",
       " '.',\n",
       " '``',\n",
       " 'DTS',\n",
       " 'NNS',\n",
       " 'MD',\n",
       " 'VB',\n",
       " 'TO',\n",
       " 'VB',\n",
       " 'IN',\n",
       " 'NN',\n",
       " 'CC',\n",
       " 'IN',\n",
       " 'NN',\n",
       " 'AT',\n",
       " 'NN$',\n",
       " 'NNS',\n",
       " 'IN',\n",
       " 'JJ',\n",
       " 'NNS',\n",
       " 'CC',\n",
       " 'PP$',\n",
       " 'VBN',\n",
       " 'CC',\n",
       " 'VBN',\n",
       " 'NNS',\n",
       " 'IN',\n",
       " 'JJ',\n",
       " 'NNS',\n",
       " \"''\",\n",
       " ',',\n",
       " 'AT',\n",
       " 'NN',\n",
       " 'VBD',\n",
       " '.',\n",
       " 'IN',\n",
       " 'NP$',\n",
       " 'JJ',\n",
       " 'JJ',\n",
       " 'NN',\n",
       " ',',\n",
       " 'AT',\n",
       " 'NN',\n",
       " 'VBD',\n",
       " '``',\n",
       " 'CS',\n",
       " 'WRB',\n",
       " 'AT',\n",
       " 'JJ',\n",
       " 'NN',\n",
       " 'VBZ',\n",
       " 'NN',\n",
       " 'NP',\n",
       " 'CD',\n",
       " 'AT',\n",
       " 'NN',\n",
       " 'BE',\n",
       " 'VBN',\n",
       " 'IN',\n",
       " 'AT',\n",
       " 'NN',\n",
       " 'WPS',\n",
       " 'MD',\n",
       " 'VB',\n",
       " 'JJ',\n",
       " 'NNS',\n",
       " \"''\",\n",
       " '.',\n",
       " 'AT',\n",
       " 'NN',\n",
       " 'DOD',\n",
       " '*',\n",
       " 'VB',\n",
       " ',',\n",
       " 'CC',\n",
       " 'PPS',\n",
       " 'VBD',\n",
       " 'CS',\n",
       " '``',\n",
       " 'EX',\n",
       " 'MD',\n",
       " 'BE',\n",
       " 'JJ',\n",
       " 'NN',\n",
       " 'IN',\n",
       " 'AT',\n",
       " 'VBG',\n",
       " 'NNS',\n",
       " 'IN',\n",
       " 'AT',\n",
       " 'NNS',\n",
       " 'IN',\n",
       " 'AT',\n",
       " 'NN',\n",
       " 'IN',\n",
       " 'VBG',\n",
       " 'AT',\n",
       " 'NNS',\n",
       " 'JJ',\n",
       " \"''\",\n",
       " '.',\n",
       " 'VB-HL',\n",
       " 'NN-HL',\n",
       " 'NNS-HL',\n",
       " 'IN',\n",
       " 'AP',\n",
       " 'NNS',\n",
       " ',',\n",
       " 'AT',\n",
       " 'NN',\n",
       " 'VBD',\n",
       " 'CS',\n",
       " ':',\n",
       " '(',\n",
       " 'CD',\n",
       " ')',\n",
       " 'CD',\n",
       " 'JJ',\n",
       " 'NNS',\n",
       " 'BE',\n",
       " 'VBN',\n",
       " 'IN',\n",
       " 'AT',\n",
       " 'NP-TL',\n",
       " 'NN-TL',\n",
       " 'NN-TL',\n",
       " 'CC',\n",
       " '``',\n",
       " 'AT',\n",
       " 'NN',\n",
       " ',',\n",
       " 'JJ',\n",
       " 'NN',\n",
       " 'CC',\n",
       " 'NN',\n",
       " 'BE',\n",
       " 'VBN',\n",
       " 'IN',\n",
       " 'NN',\n",
       " 'CC',\n",
       " 'NN',\n",
       " 'NN',\n",
       " 'IN',\n",
       " 'AT',\n",
       " 'NN',\n",
       " \"''\",\n",
       " '.',\n",
       " '(',\n",
       " 'CD',\n",
       " ')',\n",
       " 'NP',\n",
       " 'NNS',\n",
       " '``',\n",
       " 'VB',\n",
       " 'IN',\n",
       " 'NN',\n",
       " 'NNS',\n",
       " 'TO',\n",
       " 'VB',\n",
       " 'VBG',\n",
       " 'NN',\n",
       " 'WPS',\n",
       " 'MD',\n",
       " 'VB',\n",
       " 'AT',\n",
       " 'NN',\n",
       " 'IN',\n",
       " 'AT',\n",
       " 'JJ',\n",
       " 'CC',\n",
       " 'JJ',\n",
       " \"''\",\n",
       " 'NN',\n",
       " 'NN',\n",
       " 'IN',\n",
       " 'NN',\n",
       " 'NNS',\n",
       " '.',\n",
       " 'AT',\n",
       " 'NN',\n",
       " 'VBD',\n",
       " 'AT',\n",
       " 'NN',\n",
       " 'CC',\n",
       " 'NN',\n",
       " 'IN',\n",
       " 'AT',\n",
       " 'NP-TL',\n",
       " 'NNS-TL',\n",
       " 'NN-TL',\n",
       " ',',\n",
       " 'AT',\n",
       " 'NP-TL',\n",
       " 'NN-TL',\n",
       " 'NN$-TL',\n",
       " 'NN-TL',\n",
       " ',',\n",
       " 'AT',\n",
       " 'NP',\n",
       " 'CC',\n",
       " 'NP',\n",
       " 'NN',\n",
       " 'NNS',\n",
       " ',',\n",
       " 'NP-TL',\n",
       " 'NN-TL',\n",
       " 'CC',\n",
       " 'AT',\n",
       " 'NP-TL',\n",
       " 'NN-TL',\n",
       " 'NN-TL',\n",
       " '.',\n",
       " 'NN-TL',\n",
       " 'NP',\n",
       " 'NP',\n",
       " 'NP',\n",
       " 'VBD',\n",
       " 'NN',\n",
       " 'IN',\n",
       " 'NN',\n",
       " 'IN',\n",
       " 'PP$',\n",
       " 'NN',\n",
       " ',',\n",
       " 'NP',\n",
       " 'NP',\n",
       " 'NP',\n",
       " ',',\n",
       " 'IN',\n",
       " 'NP-TL',\n",
       " 'JJ-TL',\n",
       " 'NN-TL',\n",
       " 'NR',\n",
       " '.',\n",
       " 'PP$',\n",
       " 'NN',\n",
       " 'VBD',\n",
       " 'JJ',\n",
       " 'NN',\n",
       " '.',\n",
       " 'AT',\n",
       " 'NN',\n",
       " 'BEDZ',\n",
       " 'VBN',\n",
       " 'NP',\n",
       " 'CD',\n",
       " ',',\n",
       " 'CD',\n",
       " '.',\n",
       " 'PPSS',\n",
       " 'HV',\n",
       " 'AT',\n",
       " 'NN',\n",
       " ',',\n",
       " 'NP',\n",
       " 'NP',\n",
       " 'NP',\n",
       " ',',\n",
       " 'CC',\n",
       " 'AT',\n",
       " 'NN',\n",
       " ',',\n",
       " 'NP',\n",
       " 'NP',\n",
       " 'NP',\n",
       " 'NP',\n",
       " 'IN',\n",
       " 'NP',\n",
       " '.',\n",
       " 'NNS',\n",
       " 'IN',\n",
       " 'AT',\n",
       " 'NN',\n",
       " 'VBD',\n",
       " 'CS',\n",
       " 'AT',\n",
       " 'JJ',\n",
       " 'NN',\n",
       " 'NN',\n",
       " 'HVZ',\n",
       " 'BEN',\n",
       " 'VBN',\n",
       " 'RB',\n",
       " '.',\n",
       " 'AT',\n",
       " 'NN',\n",
       " 'VBD',\n",
       " 'AT',\n",
       " 'NN$',\n",
       " 'NN',\n",
       " 'CS',\n",
       " '``',\n",
       " 'NN',\n",
       " \"''\",\n",
       " 'CC',\n",
       " 'PP$',\n",
       " 'NN',\n",
       " 'CS',\n",
       " 'CD',\n",
       " '.',\n",
       " 'PPS',\n",
       " 'VBD',\n",
       " 'PP$',\n",
       " 'NN$',\n",
       " 'NN',\n",
       " 'CS',\n",
       " 'CD',\n",
       " 'CC',\n",
       " 'NN',\n",
       " 'IN',\n",
       " 'NN',\n",
       " 'CS',\n",
       " 'NP',\n",
       " ',',\n",
       " 'NP',\n",
       " '.',\n",
       " 'AT',\n",
       " 'NN',\n",
       " 'VBD',\n",
       " 'CS',\n",
       " 'AT',\n",
       " 'NN',\n",
       " 'HVZ',\n",
       " '*',\n",
       " 'VBN',\n",
       " 'RB',\n",
       " 'CS',\n",
       " 'NN',\n",
       " 'CC',\n",
       " 'NN',\n",
       " 'IN',\n",
       " 'AP',\n",
       " 'IN',\n",
       " 'AT',\n",
       " 'NN',\n",
       " '.',\n",
       " 'AT',\n",
       " 'NP',\n",
       " 'NR',\n",
       " 'BEZ',\n",
       " 'IN',\n",
       " 'CD',\n",
       " 'NP',\n",
       " 'NP',\n",
       " 'NN-TL',\n",
       " 'NN',\n",
       " '.',\n",
       " 'NP',\n",
       " 'NP',\n",
       " 'NP',\n",
       " 'BEDZ',\n",
       " 'VBN',\n",
       " 'IN',\n",
       " 'AT',\n",
       " 'NN',\n",
       " 'CS',\n",
       " 'AT',\n",
       " 'NN$',\n",
       " 'NN',\n",
       " '.',\n",
       " 'NP',\n",
       " 'HVZ',\n",
       " 'BEN',\n",
       " 'NN',\n",
       " 'IN',\n",
       " 'NP',\n",
       " ',',\n",
       " 'IN',\n",
       " 'NN',\n",
       " 'IN',\n",
       " 'CD',\n",
       " 'JJ',\n",
       " 'NN',\n",
       " ',',\n",
       " 'IN',\n",
       " 'CD',\n",
       " '.',\n",
       " 'PP$',\n",
       " 'JJ',\n",
       " 'NN',\n",
       " 'VBZ',\n",
       " 'RB',\n",
       " 'IN',\n",
       " 'PP$',\n",
       " 'NN',\n",
       " 'IN',\n",
       " 'NN',\n",
       " 'NN',\n",
       " 'IN',\n",
       " 'CD',\n",
       " '.',\n",
       " 'AT',\n",
       " 'NN$',\n",
       " 'JJ',\n",
       " 'NN',\n",
       " 'IN',\n",
       " 'NN',\n",
       " 'VBZ',\n",
       " 'NP',\n",
       " 'CD',\n",
       " '.',\n",
       " 'PPS',\n",
       " 'MD',\n",
       " 'BE',\n",
       " 'VBN',\n",
       " 'IN',\n",
       " 'NP',\n",
       " 'NP',\n",
       " 'NP',\n",
       " ',',\n",
       " 'WPS',\n",
       " 'VBD',\n",
       " 'AT',\n",
       " 'NN',\n",
       " 'IN',\n",
       " 'AT',\n",
       " 'NP',\n",
       " 'CD',\n",
       " 'NN',\n",
       " 'CS',\n",
       " 'NN-TL',\n",
       " 'NP',\n",
       " 'VBD',\n",
       " 'CS',\n",
       " 'PPS',\n",
       " 'MD',\n",
       " '*',\n",
       " 'VB',\n",
       " 'IN',\n",
       " 'NN',\n",
       " '.',\n",
       " 'NP',\n",
       " 'NPS',\n",
       " 'BER',\n",
       " 'VBG',\n",
       " 'JJ',\n",
       " 'NN',\n",
       " 'TO',\n",
       " 'VB',\n",
       " 'AT',\n",
       " 'NN',\n",
       " 'IN',\n",
       " 'AT',\n",
       " 'CD',\n",
       " 'NN$',\n",
       " ...)"
      ]
     },
     "execution_count": 185,
     "metadata": {},
     "output_type": "execute_result"
    }
   ],
   "source": [
    "tags"
   ]
  },
  {
   "cell_type": "markdown",
   "metadata": {
    "nbpresent": {
     "id": "3a11bf72-293e-4f70-a90a-9756ff2dfbf6"
    }
   },
   "source": [
    "The sequence of *tokens* and *tags* is aligned, that is, the first tag in the *tags* list belongs to the first token in the *tokens* list. You can print the token-tag pair out in the following way:"
   ]
  },
  {
   "cell_type": "code",
   "execution_count": 10,
   "metadata": {
    "nbpresent": {
     "id": "d620c3ae-eebd-434c-b209-3a115b694c33"
    }
   },
   "outputs": [
    {
     "name": "stdout",
     "output_type": "stream",
     "text": [
      "Token: The Tag: AT\n"
     ]
    }
   ],
   "source": [
    "print(\"Token:\", tokens[0], \"Tag:\", tags[0])"
   ]
  },
  {
   "cell_type": "markdown",
   "metadata": {
    "nbpresent": {
     "id": "186dd9d5-1e7a-49ce-8406-f4e4822a03f3"
    }
   },
   "source": [
    "To create a frequency profile of tags for example, we can make use of the [*Counter* container datatype](http://docs.python.org/3/library/collections.html#collections.Counter) from the [*collections* module](http://docs.python.org/3/library/collections.html). We import the [*Counter* datatype](http://docs.python.org/3/library/collections.html#collections.Counter) with the following code:"
   ]
  },
  {
   "cell_type": "code",
   "execution_count": 11,
   "metadata": {
    "nbpresent": {
     "id": "c5bf9e25-c6ec-484b-b127-1dbca8c1842e"
    }
   },
   "outputs": [],
   "source": [
    "from collections import Counter"
   ]
  },
  {
   "cell_type": "markdown",
   "metadata": {
    "nbpresent": {
     "id": "d76c4246-be56-47c4-8f65-bd07f7ecf033"
    }
   },
   "source": [
    "We can create a frequency profile of the tags from the [Brown corpus](https://en.wikipedia.org/wiki/Brown_Corpus) and store it in the variable *tagCounts* using the following code:"
   ]
  },
  {
   "cell_type": "code",
   "execution_count": 12,
   "metadata": {
    "nbpresent": {
     "id": "0cc89377-598c-41cd-8446-a040c8d22cb0"
    }
   },
   "outputs": [],
   "source": [
    "tagCounter = Counter(tags)"
   ]
  },
  {
   "cell_type": "markdown",
   "metadata": {
    "nbpresent": {
     "id": "0703707c-8e25-4413-b171-2739c6e246fc"
    }
   },
   "source": [
    "The *tagCounter* datatype now contains a hash-table with *tags* as keys and their frequencies as values. Accessing the frequency of a specific *tag* can be achieved using the following code:"
   ]
  },
  {
   "cell_type": "code",
   "execution_count": 13,
   "metadata": {
    "nbpresent": {
     "id": "eee58a53-5c33-4be1-b5c8-b2450f8babf8"
    }
   },
   "outputs": [
    {
     "data": {
      "text/plain": [
       "55110"
      ]
     },
     "execution_count": 13,
     "metadata": {},
     "output_type": "execute_result"
    }
   ],
   "source": [
    "tagCounter[\"NNS\"]"
   ]
  },
  {
   "cell_type": "markdown",
   "metadata": {
    "nbpresent": {
     "id": "1d7e6206-b7e0-4893-a1f5-f6e08c3015aa"
    }
   },
   "source": [
    "The frequency of a specific *token* can be accessed by generating a frequency profile from the *token*-list in the same way as for *tags*:"
   ]
  },
  {
   "cell_type": "code",
   "execution_count": 14,
   "metadata": {
    "nbpresent": {
     "id": "a3cbf5f1-bd72-4961-9af0-83995147c7dc"
    }
   },
   "outputs": [],
   "source": [
    "tokenCounter = Counter(tokens)"
   ]
  },
  {
   "cell_type": "markdown",
   "metadata": {
    "nbpresent": {
     "id": "0336f08a-95e2-48bb-ac96-c2af8d4dd185"
    }
   },
   "source": [
    "We access the *token* frequency in the same way as for *tags*:"
   ]
  },
  {
   "cell_type": "code",
   "execution_count": 15,
   "metadata": {
    "nbpresent": {
     "id": "3444d95e-b21a-43ab-ab1e-7821a560368b"
    }
   },
   "outputs": [
    {
     "data": {
      "text/plain": [
       "62713"
      ]
     },
     "execution_count": 15,
     "metadata": {},
     "output_type": "execute_result"
    }
   ],
   "source": [
    "tokenCounter[\"the\"]"
   ]
  },
  {
   "cell_type": "markdown",
   "metadata": {
    "nbpresent": {
     "id": "e832f5fa-ded5-44b9-8779-8b8becfb3fbd"
    }
   },
   "source": [
    "Since one type (or word) in the [Brown corpus](https://en.wikipedia.org/wiki/Brown_Corpus) can have more than one corresponding tag with a specific frequency, we need to store this information in a specific datastructure. "
   ]
  },
  {
   "cell_type": "code",
   "execution_count": 16,
   "metadata": {
    "nbpresent": {
     "id": "d9458745-f60f-48b5-812f-970e0113e9f6"
    }
   },
   "outputs": [],
   "source": [
    "from collections import defaultdict"
   ]
  },
  {
   "cell_type": "markdown",
   "metadata": {
    "nbpresent": {
     "id": "d1ce5c03-1d28-445f-96db-12b1a42c7f7b"
    }
   },
   "source": [
    "The following loop reads from the list of *token-tag*-tuples in *brown.tagged_words* the individual *token* and *tag* pairs and sets their counter in the *dictionary* of *Counter* datastructures."
   ]
  },
  {
   "cell_type": "code",
   "execution_count": 17,
   "metadata": {
    "nbpresent": {
     "id": "d94e1423-9978-4505-a62a-98b306d09b0f"
    }
   },
   "outputs": [],
   "source": [
    "tokenTags = defaultdict(Counter)\n",
    "for token, tag in brown.tagged_words():\n",
    "    tokenTags[token][tag] +=1"
   ]
  },
  {
   "cell_type": "markdown",
   "metadata": {
    "nbpresent": {
     "id": "3e29cc56-4ac4-4f9c-8a26-51b5daee862b"
    }
   },
   "source": [
    "We can now ask for the *Counter* datastructure for the key *the*. The *Counter* datastructure is a hash-table with tags as keys and the corresponding frequency as values."
   ]
  },
  {
   "cell_type": "code",
   "execution_count": 19,
   "metadata": {
    "nbpresent": {
     "id": "733452ca-de40-441e-bb41-2c2a43179770"
    }
   },
   "outputs": [
    {
     "data": {
      "text/plain": [
       "Counter({'NN-TL': 1, 'NP': 303, 'NP-HL': 9, 'NP-TL': 47})"
      ]
     },
     "execution_count": 19,
     "metadata": {},
     "output_type": "execute_result"
    }
   ],
   "source": [
    "tokenTags[\"John\"]"
   ]
  },
  {
   "cell_type": "code",
   "execution_count": 18,
   "metadata": {
    "nbpresent": {
     "id": "425e5caf-3ef8-4e36-a21b-2acf7b4802b5"
    }
   },
   "outputs": [
    {
     "data": {
      "text/plain": [
       "62288"
      ]
     },
     "execution_count": 18,
     "metadata": {},
     "output_type": "execute_result"
    }
   ],
   "source": [
    "tokenTags[\"the\"][\"AT\"]"
   ]
  },
  {
   "cell_type": "markdown",
   "metadata": {
    "nbpresent": {
     "id": "0a966380-63e5-43cf-926f-7ac0655ebcc9"
    }
   },
   "source": [
    "For the calculation of the probability of a $tag_2$ given that a $tag_1$ occured, that is $P(tag_2\\ |\\ tag_1)$ we will need to count the bigrams from the *tags* list. The NLTK ngram module provides a convenient set of functions and datastructures to achieve this:"
   ]
  },
  {
   "cell_type": "code",
   "execution_count": 20,
   "metadata": {
    "nbpresent": {
     "id": "c7b78047-d907-4ee1-aede-ecb624c7ba04"
    }
   },
   "outputs": [],
   "source": [
    "from nltk.util import ngrams"
   ]
  },
  {
   "cell_type": "markdown",
   "metadata": {
    "nbpresent": {
     "id": "5623d2f0-bd87-4098-a87b-a87639ff1992"
    }
   },
   "source": [
    "As for the *tokenTags* datatype above, we can create a *tags* bigram model using a dictionary of *Counter* datatypes. The dictionary keys will be the first tag of the tag-bigram. The value will contain a Counter datatype with the second tag of the tag-bigram as the key and the frequency of the bigram as value."
   ]
  },
  {
   "cell_type": "code",
   "execution_count": 21,
   "metadata": {
    "nbpresent": {
     "id": "c6e8d3d7-b974-46c6-9a04-25f236cda1e9"
    }
   },
   "outputs": [],
   "source": [
    "tagTags = defaultdict(Counter)"
   ]
  },
  {
   "cell_type": "markdown",
   "metadata": {
    "nbpresent": {
     "id": "78642c69-3b32-44e0-9209-7a1f5d51a600"
    }
   },
   "source": [
    "Using the *ngrams* module we generate a bigram model from the tags list and store it in the variable *posBigrams* using the following code:"
   ]
  },
  {
   "cell_type": "code",
   "execution_count": 22,
   "metadata": {
    "nbpresent": {
     "id": "d2df08e5-fa00-49c3-89e4-691aa4201457"
    }
   },
   "outputs": [],
   "source": [
    "posBigrams = list(ngrams(tags, 2))"
   ]
  },
  {
   "cell_type": "markdown",
   "metadata": {
    "nbpresent": {
     "id": "f2089b44-60a8-4ca1-92d1-adb1a15b2aa8"
    }
   },
   "source": [
    "The following loop goes through the list of bigram tuples, assigned the left bigram tag to the variable *tag1* and the right bigram tag to variable *tag2*, and stores the count of the bigram in the *tagTags* datastructure:"
   ]
  },
  {
   "cell_type": "code",
   "execution_count": 23,
   "metadata": {
    "nbpresent": {
     "id": "ff4e5bf1-5615-4031-aa88-45d39bc81942"
    }
   },
   "outputs": [],
   "source": [
    "for tag1, tag2 in posBigrams:\n",
    "    tagTags[tag1][tag2] += 1"
   ]
  },
  {
   "cell_type": "markdown",
   "metadata": {
    "nbpresent": {
     "id": "ed464fb4-3460-4ef0-a950-8578ec85148f"
    }
   },
   "source": [
    "We can now list all *tags* that follow the *AT* tag with the corresponding frequency:"
   ]
  },
  {
   "cell_type": "code",
   "execution_count": 46,
   "metadata": {
    "nbpresent": {
     "id": "9dd4b2f2-80af-46c6-98af-ad710e82621c"
    },
    "scrolled": true
   },
   "outputs": [
    {
     "data": {
      "text/plain": [
       "Counter({\"'\": 24,\n",
       "         \"''\": 7,\n",
       "         '(': 15,\n",
       "         ')': 1,\n",
       "         '*': 4,\n",
       "         ',': 12,\n",
       "         '--': 4,\n",
       "         '.': 4,\n",
       "         'ABN': 42,\n",
       "         'AP': 3007,\n",
       "         'AP$': 1,\n",
       "         'AP-TL': 2,\n",
       "         'AT': 1,\n",
       "         'BEZ-NC': 1,\n",
       "         'CC': 4,\n",
       "         'CD': 981,\n",
       "         'CD-TL': 29,\n",
       "         'FW-CC': 1,\n",
       "         'FW-IN': 7,\n",
       "         'FW-IN-TL': 4,\n",
       "         'FW-JJ': 2,\n",
       "         'FW-JJ-TL': 8,\n",
       "         'FW-JJT': 1,\n",
       "         'FW-NN': 76,\n",
       "         'FW-NN$': 1,\n",
       "         'FW-NN-TL': 52,\n",
       "         'FW-NN-TL-NC': 1,\n",
       "         'FW-NNS': 11,\n",
       "         'FW-NNS-TL': 5,\n",
       "         'FW-RB': 1,\n",
       "         'FW-VB': 2,\n",
       "         'FW-VBN': 1,\n",
       "         'HV': 1,\n",
       "         'IN': 3,\n",
       "         'IN-TL': 1,\n",
       "         'JJ': 19488,\n",
       "         'JJ-HL': 1,\n",
       "         'JJ-TL': 1414,\n",
       "         'JJR': 630,\n",
       "         'JJR-TL': 3,\n",
       "         'JJS': 206,\n",
       "         'JJS-TL': 2,\n",
       "         'JJT': 675,\n",
       "         'JJT-TL': 3,\n",
       "         'MD': 1,\n",
       "         'NIL': 1,\n",
       "         'NN': 48376,\n",
       "         'NN$': 907,\n",
       "         'NN$-TL': 162,\n",
       "         'NN+BEZ': 13,\n",
       "         'NN+HVZ': 3,\n",
       "         'NN+IN': 1,\n",
       "         'NN+MD': 2,\n",
       "         'NN-HL': 3,\n",
       "         'NN-TL': 2565,\n",
       "         'NNS': 7215,\n",
       "         'NNS$': 97,\n",
       "         'NNS$-TL': 28,\n",
       "         'NNS-TL': 284,\n",
       "         'NP': 2230,\n",
       "         'NP$': 62,\n",
       "         'NP$-TL': 17,\n",
       "         'NP-TL': 809,\n",
       "         'NPS': 588,\n",
       "         'NPS$': 30,\n",
       "         'NPS-TL': 2,\n",
       "         'NR': 218,\n",
       "         'NR$-TL': 8,\n",
       "         'NR-TL': 208,\n",
       "         'OD': 1251,\n",
       "         'OD-TL': 98,\n",
       "         'PN': 149,\n",
       "         'PN$': 1,\n",
       "         'PN+HVZ': 1,\n",
       "         'PPO': 1,\n",
       "         'PPS': 1,\n",
       "         'QL': 1377,\n",
       "         'RB': 350,\n",
       "         'RB-NC': 1,\n",
       "         'RB-TL': 1,\n",
       "         'RBR': 40,\n",
       "         'RBR+CS': 1,\n",
       "         'RBT': 11,\n",
       "         'RP': 1,\n",
       "         'UH': 2,\n",
       "         'VB': 16,\n",
       "         'VB-TL': 3,\n",
       "         'VBD': 2,\n",
       "         'VBG': 1568,\n",
       "         'VBG-TL': 34,\n",
       "         'VBN': 1468,\n",
       "         'VBN-TL': 390,\n",
       "         'VBZ': 1,\n",
       "         'WDT': 2,\n",
       "         '``': 620})"
      ]
     },
     "execution_count": 46,
     "metadata": {},
     "output_type": "execute_result"
    }
   ],
   "source": [
    "tagTags[\"AT\"]"
   ]
  },
  {
   "cell_type": "markdown",
   "metadata": {
    "nbpresent": {
     "id": "a3e00db0-678e-478f-a503-7bb6f1f17d9c"
    }
   },
   "source": [
    "We can request the frequency of the tag-bigram *AT NN* using the following code:"
   ]
  },
  {
   "cell_type": "code",
   "execution_count": 24,
   "metadata": {
    "nbpresent": {
     "id": "4baf913a-0b9e-4e62-982b-a4b3d912c76c"
    }
   },
   "outputs": [
    {
     "data": {
      "text/plain": [
       "48376"
      ]
     },
     "execution_count": 24,
     "metadata": {},
     "output_type": "execute_result"
    }
   ],
   "source": [
    "tagTags[\"AT\"][\"NN\"]"
   ]
  },
  {
   "cell_type": "markdown",
   "metadata": {},
   "source": [
    "We can calculate the total number of bigrams and relativize the count of any particular bigram:"
   ]
  },
  {
   "cell_type": "code",
   "execution_count": 25,
   "metadata": {},
   "outputs": [
    {
     "name": "stdout",
     "output_type": "stream",
     "text": [
      "1161192\n"
     ]
    },
    {
     "data": {
      "text/plain": [
       "0.00012228823681892126"
      ]
     },
     "execution_count": 25,
     "metadata": {},
     "output_type": "execute_result"
    }
   ],
   "source": [
    "total = len(tags)\n",
    "print(total)\n",
    "tagTags[\"NNS\"][\"NNS\"]/float(total-1)"
   ]
  },
  {
   "cell_type": "markdown",
   "metadata": {},
   "source": [
    "If we want to know how many times a certain tag occurs in sentence initial position, to estimate initial probabilities for startstates in a Hidden Markov Model for example, we can loop through the sentences and count the tags in initial position."
   ]
  },
  {
   "cell_type": "code",
   "execution_count": 26,
   "metadata": {},
   "outputs": [
    {
     "name": "stdout",
     "output_type": "stream",
     "text": [
      "Example:\n",
      "AT: 8297\n"
     ]
    }
   ],
   "source": [
    "offset = 0\n",
    "initialTags = Counter()\n",
    "for x in brown.sents():\n",
    "    initTag = tags[offset]\n",
    "    initialTags[initTag] += 1\n",
    "    offset += len(x)\n",
    "print(\"Example:\")\n",
    "print(\"AT:\", initialTags[\"AT\"])"
   ]
  },
  {
   "cell_type": "markdown",
   "metadata": {},
   "source": [
    "Note, for the code above, I do not know how to access the initial sentence tag directly, thus I am indirectly accessing the tag over an offset count. If you know a better way, let me know, please."
   ]
  },
  {
   "cell_type": "markdown",
   "metadata": {},
   "source": [
    "We can now estimate the probability of any tag being in sentence initial position in the following way:"
   ]
  },
  {
   "cell_type": "code",
   "execution_count": 39,
   "metadata": {},
   "outputs": [
    {
     "data": {
      "text/plain": [
       "0.007145243852868432"
      ]
     },
     "execution_count": 39,
     "metadata": {},
     "output_type": "execute_result"
    }
   ],
   "source": [
    "initialTags[\"AT\"]/float(total)"
   ]
  },
  {
   "cell_type": "markdown",
   "metadata": {},
   "source": [
    "We can estimate the probability of any tag being followed by any other, in the following way:"
   ]
  },
  {
   "cell_type": "code",
   "execution_count": 29,
   "metadata": {},
   "outputs": [
    {
     "data": {
      "text/plain": [
       "0.04166067425600095"
      ]
     },
     "execution_count": 29,
     "metadata": {},
     "output_type": "execute_result"
    }
   ],
   "source": [
    "tagTags[\"AT\"][\"NN\"]/float(total-1)"
   ]
  },
  {
   "cell_type": "markdown",
   "metadata": {},
   "source": [
    "Note, we are dividing by *total - 1*, since the number of bigrams in the *tagTags* data structure is exactly this. "
   ]
  },
  {
   "cell_type": "markdown",
   "metadata": {},
   "source": [
    "We can estimate the likelihood of a tag token combination using the *tokenTags* data-structure:"
   ]
  },
  {
   "cell_type": "code",
   "execution_count": 30,
   "metadata": {},
   "outputs": [
    {
     "data": {
      "text/plain": [
       "0.0"
      ]
     },
     "execution_count": 30,
     "metadata": {},
     "output_type": "execute_result"
    }
   ],
   "source": [
    "tokenTags[\"John\"][\"NN\"]/float(total)"
   ]
  },
  {
   "cell_type": "markdown",
   "metadata": {
    "collapsed": true,
    "nbpresent": {
     "id": "397c051d-fc65-42d7-8216-0a332d23542e"
    }
   },
   "source": [
    "Given the data structures *tokenTags* and *tagTags* we can now estimate the probability of a word given a specific tag, or intuitively, the probability that a specific word is assigned a tag, that is for the token *cat* and the tag *NN*: $P(cat\\ |\\ NN)$ using the following equation and corresponding code (with $C(cat\\ NN)$ as the absolute frequency or count of the *cat NN* tuple, and $C(NN)$ the count of the *NN*-tag):"
   ]
  },
  {
   "cell_type": "markdown",
   "metadata": {
    "collapsed": true,
    "nbpresent": {
     "id": "f4c3907d-8932-4333-b5b8-648f00699345"
    }
   },
   "source": [
    "$$P(w_n\\ |\\ t_n) = \\frac{C(w_n\\ t_n)}{C(t_n)}$$"
   ]
  },
  {
   "cell_type": "code",
   "execution_count": 159,
   "metadata": {
    "nbpresent": {
     "id": "6446d406-5bfb-4c72-bc2e-31f8f0007051"
    }
   },
   "outputs": [
    {
     "data": {
      "text/plain": [
       "0.0"
      ]
     },
     "execution_count": 159,
     "metadata": {},
     "output_type": "execute_result"
    }
   ],
   "source": [
    "tokenTags[\"an\"][\"DT\"] / tagCounter[\"DT\"]"
   ]
  },
  {
   "cell_type": "markdown",
   "metadata": {
    "collapsed": true,
    "nbpresent": {
     "id": "8ea9b5e1-fd11-41e1-b2ca-d2ea2448a650"
    }
   },
   "source": [
    "We can estimate the probability of a $tag_2$ following a $tag_1$ using a similar approach:"
   ]
  },
  {
   "cell_type": "markdown",
   "metadata": {
    "collapsed": true,
    "nbpresent": {
     "id": "0e7350df-2ae2-4574-a2d4-4718fdacf42a"
    }
   },
   "source": [
    "$$P(t_n\\ |\\ t_{n-1}) = \\frac{C(t_{n-1}\\ t_n)}{C(t_{n-1})}$$"
   ]
  },
  {
   "cell_type": "markdown",
   "metadata": {
    "nbpresent": {
     "id": "ae3f2d65-17dc-4f3d-b37d-1b212d14c518"
    }
   },
   "source": [
    "Here $C(t_{n-1}\\ t_n)$ is the count of the bigram of these two tags in sequence. $C(t_{n-1})$ is the count or absolute frequency of the first or left tag in the bigram. Let us assume that the input sequence was *the cat ...* and that the most likely initial tag for *the* was *AT*, then the probability of the tag *NN* given that a tag *AT* occurred can be estimated as:"
   ]
  },
  {
   "cell_type": "code",
   "execution_count": 36,
   "metadata": {
    "nbpresent": {
     "id": "1ab47b9d-79ba-47b6-9388-45624a867a43"
    }
   },
   "outputs": [
    {
     "data": {
      "text/plain": [
       "0.0"
      ]
     },
     "execution_count": 36,
     "metadata": {},
     "output_type": "execute_result"
    }
   ],
   "source": [
    "tagTags[\"AT\"][\"NN\"] / tagCounter[\"AT\"]"
   ]
  },
  {
   "cell_type": "markdown",
   "metadata": {
    "nbpresent": {
     "id": "d989bcba-3896-4719-8a65-aca6281622a4"
    }
   },
   "source": [
    "The product of the two probabilities $P(w_n\\ |\\ t_n)\\ P(t_n\\ |\\ t_{n-1})$ for the tokens *the cat* and the possible tags *AT NN* should be:"
   ]
  },
  {
   "cell_type": "code",
   "execution_count": 33,
   "metadata": {
    "nbpresent": {
     "id": "6af6e8e8-ef9e-46f1-9d59-66e68b2554b5"
    }
   },
   "outputs": [
    {
     "data": {
      "text/plain": [
       "6.477854781687473e-05"
      ]
     },
     "execution_count": 33,
     "metadata": {},
     "output_type": "execute_result"
    }
   ],
   "source": [
    "(tokenTags[\"cat\"][\"NN\"] / tagCounter[\"NN\"]) * (tagTags[\"AT\"][\"NN\"] / tagCounter[\"AT\"])"
   ]
  },
  {
   "cell_type": "markdown",
   "metadata": {},
   "source": [
    "MY ASSIGNMENT SOLUTIONS START HERE"
   ]
  },
  {
   "cell_type": "markdown",
   "metadata": {},
   "source": [
    "Q1 (a) Encode the FSA in terms of matrices, including initial and final states. (This is the transition matrix!)"
   ]
  },
  {
   "cell_type": "code",
   "execution_count": 171,
   "metadata": {},
   "outputs": [],
   "source": [
    "import numpy as np"
   ]
  },
  {
   "cell_type": "code",
   "execution_count": 172,
   "metadata": {},
   "outputs": [],
   "source": [
    "a= np.matrix([[0,0,0,1],[0,0,0,1],[0,0,1,0],[0,0,0,1]])\n",
    "b= np.matrix([[0,1,0,0],[0,1,0,0],[0,0,0,0],[0,1,0,0]])\n",
    "c= np.matrix([[0,0,1,0],[0,0,0,0],[0,0,0,0],[0,0,0,0]])"
   ]
  },
  {
   "cell_type": "code",
   "execution_count": 173,
   "metadata": {},
   "outputs": [
    {
     "name": "stdout",
     "output_type": "stream",
     "text": [
      "[[0 0 0 1]\n",
      " [0 0 0 1]\n",
      " [0 0 1 0]\n",
      " [0 0 0 1]]\n"
     ]
    }
   ],
   "source": [
    "#print(\"FSA matrix a\")\n",
    "print(a)"
   ]
  },
  {
   "cell_type": "code",
   "execution_count": 174,
   "metadata": {},
   "outputs": [
    {
     "name": "stdout",
     "output_type": "stream",
     "text": [
      "[[0 1 0 0]\n",
      " [0 1 0 0]\n",
      " [0 0 0 0]\n",
      " [0 1 0 0]]\n"
     ]
    }
   ],
   "source": [
    "# print(\"FSA matrix b\")\n",
    "print(b)"
   ]
  },
  {
   "cell_type": "code",
   "execution_count": 175,
   "metadata": {},
   "outputs": [
    {
     "name": "stdout",
     "output_type": "stream",
     "text": [
      "[[0 0 1 0]\n",
      " [0 0 0 0]\n",
      " [0 0 0 0]\n",
      " [0 0 0 0]]\n"
     ]
    }
   ],
   "source": [
    "# print(\"FSA matrix c\")\n",
    "print(c)"
   ]
  },
  {
   "cell_type": "code",
   "execution_count": 178,
   "metadata": {},
   "outputs": [],
   "source": [
    "initial_state = np.array([1,0,0,0])\n",
    "final_state = np.array([0,0,0,1])"
   ]
  },
  {
   "cell_type": "code",
   "execution_count": 177,
   "metadata": {},
   "outputs": [
    {
     "name": "stdout",
     "output_type": "stream",
     "text": [
      "Initial State\n",
      "[1 0 0 0]\n"
     ]
    }
   ],
   "source": [
    "print(\"Initial State\")\n",
    "print(initial_state)"
   ]
  },
  {
   "cell_type": "code",
   "execution_count": 179,
   "metadata": {},
   "outputs": [
    {
     "name": "stdout",
     "output_type": "stream",
     "text": [
      "final state\n",
      "[0 0 0 1]\n"
     ]
    }
   ],
   "source": [
    "print(\"final state\")\n",
    "print(final_state)"
   ]
  },
  {
   "cell_type": "markdown",
   "metadata": {},
   "source": [
    "(b) Describe the language that is accepted by the FSA as a regular expression."
   ]
  },
  {
   "cell_type": "markdown",
   "metadata": {},
   "source": [
    "ca |(a*b+)"
   ]
  },
  {
   "cell_type": "markdown",
   "metadata": {},
   "source": [
    "2. Markov Chains\n",
    "\n",
    "There are three telephone lines, and at any given moment 0, 1, 2 or 3 of them can be busy. Once every minute we will observe how many of them are busy. This can be described as a (finite) Markov chain by assuming that the number of busy lines will depend only on the number of lines that were busy the last time we observed them, and not on the previous history.\n",
    "Use the following matrices to answer the following questions. You can use online matrix multipliers\n",
    "(e.g., http://wims.unice.fr/wims/en_tool~linear~matmult.html). Please explain your answers."
   ]
  },
  {
   "cell_type": "code",
   "execution_count": 181,
   "metadata": {},
   "outputs": [
    {
     "name": "stdout",
     "output_type": "stream",
     "text": [
      "probability that after 4 steps exactly 3 lines are busy  0.20484000000000005\n",
      "2 number of lines being busy has the highest probability after 4 steps  and its probability is  0.33393000000000006\n"
     ]
    }
   ],
   "source": [
    "initial_vector = [0.5,0.3,0.2,0.0]\n",
    "a = [[0.2, 0.5, 0.2, 0.1], [0.3, 0.4, 0.2, 0.1], [0.1, 0.3, 0.4, 0.2], [0.1, 0.1, 0.3, 0.5]]\n",
    "\n",
    "after_four_steps= np.matmul(initial_vector, np.matmul(np.matmul(a, a),np.matmul(a, a)))\n",
    "\n",
    "print(\"probability that after 4 steps exactly 3 lines are busy \", after_four_steps[3])#Q 3\n",
    "print(\"2 number of lines being busy has the highest probability after 4 steps  and its probability is \" ,after_four_steps[1])"
   ]
  },
  {
   "cell_type": "markdown",
   "metadata": {},
   "source": [
    "3. POS Tagging\n",
    "Consider the transition network for the sentence time flies like an arrow and the conditional probabilities reading them from the Brown corpus using the methods that we discussed in class, see also the iPython tutorial (URL available\n",
    " (Links to an external site.)\n",
    "Links to an external site.\n",
    "). From these, calculate the most likely sequence."
   ]
  },
  {
   "cell_type": "code",
   "execution_count": 101,
   "metadata": {},
   "outputs": [
    {
     "name": "stdout",
     "output_type": "stream",
     "text": [
      "Following are all different paths from 0 to 11 :\n",
      "[[1, 4, 6, 9, 10], [1, 5, 6, 9, 10], [1, 5, 7, 9, 10], [1, 5, 8, 9, 10], [2, 4, 6, 9, 10], [2, 5, 6, 9, 10], [2, 5, 7, 9, 10], [2, 5, 8, 9, 10]]\n"
     ]
    }
   ],
   "source": [
    "List_OF_SEQUENCES=[]\n",
    "\n",
    "# Python program to print all paths from a source to destination. \n",
    "#Reference https://www.geeksforgeeks.org/find-paths-given-source-destination/\n",
    "from collections import defaultdict \n",
    "class Graph: \n",
    "   \n",
    "    def __init__(self,vertices): \n",
    "        #No. of vertices \n",
    "        self.V= vertices  \n",
    "          \n",
    "        # default dictionary to store graph \n",
    "        self.graph = defaultdict(list)  \n",
    "   \n",
    "    # function to add an edge to graph \n",
    "    def addEdge(self,u,v): \n",
    "        self.graph[u].append(v) \n",
    "        \n",
    "    def printAllPathsUtil(self, u, d, visited, path):    \n",
    "        visited[u]= True\n",
    "        path.append(u) \n",
    "        if u == d: \n",
    "            List_OF_SEQUENCES.append(path[1:6])\n",
    "        else: \n",
    "        \n",
    "            for i in self.graph[u]: \n",
    "                if visited[i]==False: \n",
    "                    self.printAllPathsUtil(i, d, visited, path) \n",
    "        path.pop() \n",
    "        visited[u]= False\n",
    "    def printAllPaths(self,s, d): \n",
    "        visited =[False]*(self.V) \n",
    "        path = [] \n",
    "        self.printAllPathsUtil(s, d,visited, path) \n",
    "# Create a transition Graph\n",
    "g = Graph(12) \n",
    "g.addEdge(0,1) \n",
    "g.addEdge(0,2) \n",
    "g.addEdge(0,3) \n",
    "g.addEdge(1,4) \n",
    "g.addEdge(1,5) \n",
    "g.addEdge(2,4) \n",
    "g.addEdge(2,5) \n",
    "g.addEdge(4,6) \n",
    "g.addEdge(5,6) \n",
    "g.addEdge(5,7) \n",
    "g.addEdge(5,8) \n",
    "g.addEdge(6,9) \n",
    "g.addEdge(7,9) \n",
    "g.addEdge(8,9)\n",
    "g.addEdge(9,10)\n",
    "g.addEdge(10,11)\n",
    "#Start 0\n",
    "# NN  1  \n",
    "# VB  2 \n",
    "# JJ  3\n",
    "# VBZ 4\n",
    "# NNS 5\n",
    "# IN  6\n",
    "# VB  7\n",
    "# RB  8\n",
    "# DT  9\n",
    "# NN  10\n",
    "# End 11\n",
    "\n",
    "s = 0 ; d = 11\n",
    "print (\"Following are all different paths from %d to %d :\" %(s, d)) \n",
    "g.printAllPaths(s, d) \n",
    "\n",
    "print(List_OF_SEQUENCES)\n",
    "\n",
    "POS_TAG =['START','NN'  ,'VB'  ,'JJ' ,'VBZ','NNS','IN'  ,'VB' ,'RB' ,'DT' ,'NN' ,'End' ]\n",
    "POS_TAGS = {}\n",
    "\n",
    "words= [\"time\" ,\"flies\" ,\"like\" ,\"an\", \"arrow\"]\n",
    "likelihood_dict= {}\n",
    "\n",
    "# for w in words:\n",
    "#     for pt in pos_tags:\n",
    "#         likelihood_dict[w,pt]= tokenTags[w][pt]/float(total)    # p(w|t)\n"
   ]
  },
  {
   "cell_type": "code",
   "execution_count": 183,
   "metadata": {},
   "outputs": [
    {
     "name": "stdout",
     "output_type": "stream",
     "text": [
      "Most Likely Sequence IS\n",
      "NN\n",
      "NNS\n",
      "IN\n",
      "DT\n",
      "NN\n"
     ]
    }
   ],
   "source": [
    "# print(likelihood_dict)\n",
    "words=[\"time\",\"flies\",\"like\",\"an\",\"arrow\"]\n",
    "most_likely_sequence=[]\n",
    "most_likely_sequence_probability=0\n",
    "\n",
    "sequence_probability=sequence_probability*(initialTags[POS_TAGS[i]]/float(total))\n",
    "\n",
    "\n",
    "for seq in List_OF_SEQUENCES:\n",
    "    word_no= 0\n",
    "    sequence_probability=1\n",
    "    for i in seq:\n",
    "        \n",
    "        if word_no==0:\n",
    "            sequence_probability=sequence_probability *(tokenTags[words[word_no]][POS_TAG[i]] / tagCounter[POS_TAG[i]]) * (initialTags[POS_TAGS[i]]/float(total))\n",
    "            word_no= word_no+1\n",
    "#             print(sequence_probability,word_no)\n",
    "        \n",
    "        else:\n",
    "            wi_ti =tokenTags[words[word_no]][POS_TAG[i]]\n",
    "            c_ti =tagCounter[POS_TAG[i]]\n",
    "            c_tn_tn_minus_1=tagTags[POS_TAGS[i-1]][POS_TAGS[i]]\n",
    "            c_tn_minus_1 = tagCounter[POS_TAGS[i-1]]\n",
    "            \n",
    "            if wi_ti==0:\n",
    "                wi_ti = 1/(2*len(tokens))\n",
    "            \n",
    "\n",
    "            \n",
    "            \n",
    "            sequence_probability=sequence_probability *(wi_ti / c_ti) * (c_tn_tn_minus_1 /c_tn_minus_1)\n",
    "            \n",
    "            word_no= word_no+1\n",
    "            \n",
    "    \n",
    "    if  most_likely_sequence_probability< sequence_probability:    \n",
    "        most_likely_sequence =seq\n",
    "        most_likely_sequence_probability =sequence_probability\n",
    "print(\"Most Likely Sequence IS\")\n",
    "for i in most_likely_sequence:\n",
    "    print(POS_TAG[i])\n",
    "\n"
   ]
  },
  {
   "cell_type": "markdown",
   "metadata": {},
   "source": [
    "4. Read Ranaparkhi (1996)\n",
    "http://aclweb.org/anthology/W/W96/W96-0213.pdf\n",
    " and explain, in half-a-page or so, how the tagger works, roughly speaking, and how entropy is being employed."
   ]
  },
  {
   "cell_type": "markdown",
   "metadata": {},
   "source": [
    "Note ->Quoted text is taken as it is from the paper\n",
    "\n",
    "General Stuff\n",
    "\"The paper briefly describes the maximum entropy and maximum likelihood properties of the model,\n",
    "features used for POS tagging, and the experiments on the Penn Treebank Wall St. Journal corpus\"\n",
    "The model uses many contexual feattures to predict the POS tag\n",
    "Specialized features are used to model difficult tagging decisions\n",
    "\"A maximum Entropy model cobines diverse forms of contextual information in a principled manner, and does not impose any distributional assumptions on the training data.\"\n",
    "The Maximum Entropy model allows arbitrary binary-valued features on the context, so it can use additional specialized, i.e., word-specific, feature to correctly tag the \"residue\" that the baseline features cannot model. Since such features typically occur infrequently, the training set consistency must be good enough to yield reliable statis- tics. Otherwise the specialized features will model noise and perform poorly on test data.\n",
    "\n",
    "------------------------------------------------------------------------------------------------------------------------------\n",
    "The model's probability of a history h together with a tag t is defined as p(h,t) as given in equation 1\n",
    "The model parameter alpha j  in equation effectively serves as a \"weight\" for a certain contextual predictor  and it also influences the entropy which is calculated\n",
    "The goal is to maximize the entropy subject to some contraints\n",
    "If Equation 1(p has form as given in equation 1) and Equation 2(model's feature expectation =observed feature expectation  for k contrainsts) then the Entropy is Maximized. From the model's satisfying these contraints choose the maximum entropy model\n",
    "\n",
    "--------------------------------------------------------------------------------------\n",
    "The model treat features whose counts are less than  as unreliable and ignores features whose counts are less than 1000\n",
    "\n",
    "------------------------------------------\n",
    "The tagger uses a search algoritm on the test data and also uses Specialized Features and Consistency.\n",
    "\n"
   ]
  },
  {
   "cell_type": "markdown",
   "metadata": {
    "nbpresent": {
     "id": "2b0e540c-93e7-49a9-b96e-a816a8d33c02"
    }
   },
   "source": [
    "If we would want to calculate this for any sequence of words, we should wrap this code in some function and a loop over all tokens. To avoid an underflow from the product of many probabilities, we can sum up the log-likelihoods of these probabilities. We would calculate the probabilities for all possible tag combinations assigned to the sequence of words or tokens and select the largest one as the best."
   ]
  },
  {
   "cell_type": "markdown",
   "metadata": {
    "nbpresent": {
     "id": "27a27e36-dd12-4296-ab63-6b1f2a1fe217"
    }
   },
   "source": [
    "In the next section we will discuss Hidden Markov Models (HMMs) for Part-of-Speech Tagging."
   ]
  },
  {
   "cell_type": "markdown",
   "metadata": {},
   "source": [
    "## References"
   ]
  },
  {
   "cell_type": "markdown",
   "metadata": {},
   "source": [
    "Manning, Chris and Hinrich Schütze (1999) *[Foundations of Statistical Natural Language Processing](http://nlp.stanford.edu/fsnlp/)*, MIT Press. Cambridge, MA."
   ]
  },
  {
   "cell_type": "markdown",
   "metadata": {
    "nbpresent": {
     "id": "466335b8-7064-41bd-b154-2327abefd9a4"
    }
   },
   "source": [
    "(C) 2016 by [Damir Cavar](http://cavar.me/damir/) <<dcavar@iu.edu>>"
   ]
  }
 ],
 "metadata": {
  "anaconda-cloud": {
   "environment": null,
   "summary": "A Python tutorial for Part-of-Speech Tagging",
   "url": "https://anaconda.org/dcavar/python-tutorial-pos-tagging"
  },
  "kernelspec": {
   "display_name": "Python 3",
   "language": "python",
   "name": "python3"
  },
  "language_info": {
   "codemirror_mode": {
    "name": "ipython",
    "version": 3
   },
   "file_extension": ".py",
   "mimetype": "text/x-python",
   "name": "python",
   "nbconvert_exporter": "python",
   "pygments_lexer": "ipython3",
   "version": "3.6.4"
  },
  "nbpresent": {
   "slides": {},
   "themes": {
    "default": "e2ad077c-80e1-4c08-addc-201005506eb1",
    "theme": {
     "510cdff0-402c-4eba-bd09-b848f6dfd289": {
      "backgrounds": {
       "dc7afa04-bf90-40b1-82a5-726e3cff5267": {
        "background-color": "31af15d2-7e15-44c5-ab5e-e04b16a89eff",
        "id": "dc7afa04-bf90-40b1-82a5-726e3cff5267"
       }
      },
      "id": "510cdff0-402c-4eba-bd09-b848f6dfd289",
      "palette": {
       "19cc588f-0593-49c9-9f4b-e4d7cc113b1c": {
        "id": "19cc588f-0593-49c9-9f4b-e4d7cc113b1c",
        "rgb": [
         252,
         252,
         252
        ]
       },
       "31af15d2-7e15-44c5-ab5e-e04b16a89eff": {
        "id": "31af15d2-7e15-44c5-ab5e-e04b16a89eff",
        "rgb": [
         68,
         68,
         68
        ]
       },
       "50f92c45-a630-455b-aec3-788680ec7410": {
        "id": "50f92c45-a630-455b-aec3-788680ec7410",
        "rgb": [
         197,
         226,
         245
        ]
       },
       "c5cc3653-2ee1-402a-aba2-7caae1da4f6c": {
        "id": "c5cc3653-2ee1-402a-aba2-7caae1da4f6c",
        "rgb": [
         43,
         126,
         184
        ]
       },
       "efa7f048-9acb-414c-8b04-a26811511a21": {
        "id": "efa7f048-9acb-414c-8b04-a26811511a21",
        "rgb": [
         25.118061674008803,
         73.60176211453744,
         107.4819383259912
        ]
       }
      },
      "rules": {
       "a": {
        "color": "19cc588f-0593-49c9-9f4b-e4d7cc113b1c"
       },
       "blockquote": {
        "color": "50f92c45-a630-455b-aec3-788680ec7410",
        "font-size": 3
       },
       "code": {
        "font-family": "Anonymous Pro"
       },
       "h1": {
        "color": "19cc588f-0593-49c9-9f4b-e4d7cc113b1c",
        "font-family": "Merriweather",
        "font-size": 8
       },
       "h2": {
        "color": "19cc588f-0593-49c9-9f4b-e4d7cc113b1c",
        "font-family": "Merriweather",
        "font-size": 6
       },
       "h3": {
        "color": "50f92c45-a630-455b-aec3-788680ec7410",
        "font-family": "Lato",
        "font-size": 5.5
       },
       "h4": {
        "color": "c5cc3653-2ee1-402a-aba2-7caae1da4f6c",
        "font-family": "Lato",
        "font-size": 5
       },
       "h5": {
        "font-family": "Lato"
       },
       "h6": {
        "font-family": "Lato"
       },
       "h7": {
        "font-family": "Lato"
       },
       "li": {
        "color": "50f92c45-a630-455b-aec3-788680ec7410",
        "font-size": 3.25
       },
       "pre": {
        "font-family": "Anonymous Pro",
        "font-size": 4
       }
      },
      "text-base": {
       "color": "19cc588f-0593-49c9-9f4b-e4d7cc113b1c",
       "font-family": "Lato",
       "font-size": 4
      }
     }
    }
   }
  },
  "toc": {
   "nav_menu": {
    "height": "121px",
    "width": "252px"
   },
   "navigate_menu": true,
   "number_sections": true,
   "sideBar": true,
   "threshold": 4,
   "toc_cell": false,
   "toc_section_display": "block",
   "toc_window_display": false
  }
 },
 "nbformat": 4,
 "nbformat_minor": 1
}
