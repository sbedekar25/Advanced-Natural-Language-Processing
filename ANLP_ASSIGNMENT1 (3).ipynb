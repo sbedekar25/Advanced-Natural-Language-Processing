{
 "cells": [
  {
   "cell_type": "markdown",
   "metadata": {},
   "source": [
    "Task 1:\n",
    "\n",
    "Use spaCy to segment the text in file ex1.txt into a list of sentences. Identify the sentence in the text that is most similar to:  My poodle likes food in general."
   ]
  },
  {
   "cell_type": "code",
   "execution_count": 1,
   "metadata": {},
   "outputs": [],
   "source": [
    "import spacy"
   ]
  },
  {
   "cell_type": "code",
   "execution_count": 2,
   "metadata": {},
   "outputs": [
    {
     "name": "stdout",
     "output_type": "stream",
     "text": [
      "This is a sentence.\n",
      "This is another sentence.\n",
      "John likes milk.\n",
      "Peter eats candy.\n",
      "My dog likes bones.\n",
      "\n"
     ]
    }
   ],
   "source": [
    "#sentence segmentation\n",
    "sentence_similiarity = spacy.load('en_core_web_sm')\n",
    "doc =sentence_similiarity(open('ex1.txt').read())\n",
    "for sent in doc.sents:\n",
    "    print(sent.text)"
   ]
  },
  {
   "cell_type": "code",
   "execution_count": 3,
   "metadata": {},
   "outputs": [
    {
     "name": "stdout",
     "output_type": "stream",
     "text": [
      "The most similar sentence is:  My dog likes bones.\n",
      "\n",
      "Its similiarity score is:  0.7247384943519591\n"
     ]
    }
   ],
   "source": [
    "# calculate the most similar sentence\n",
    "max_similiarity_score = 0.0\n",
    "most_similar_sentence =\"\"\n",
    "search_doc = sentence_similiarity(\"My poodle likes food in general.\")\n",
    "for sent in doc.sents:\n",
    "    sentence = sentence_similiarity(sent.text)\n",
    "    similiarity = sentence.similarity(search_doc)\n",
    "    if similiarity > max_similiarity_score :\n",
    "        most_similar_sentence = sent.text\n",
    "        max_similiarity_score = similiarity\n",
    "print(\"The most similar sentence is: \",most_similar_sentence)    \n",
    "print(\"Its similiarity score is: \",max_similiarity_score)"
   ]
  },
  {
   "cell_type": "markdown",
   "metadata": {},
   "source": [
    "Task 2:\n",
    "\n",
    "In the following two sentences:\n",
    "\n",
    "1. John loves apples\n",
    "\n",
    "2. some man likes fruit"
   ]
  },
  {
   "cell_type": "markdown",
   "metadata": {},
   "source": [
    "a. Write Python code to identify the most similar words in the two sentences using spaCy and a loop over the tokens."
   ]
  },
  {
   "cell_type": "code",
   "execution_count": 69,
   "metadata": {},
   "outputs": [
    {
     "name": "stdout",
     "output_type": "stream",
     "text": [
      "Most Similar words\n",
      "loves likes 0.46491697\n",
      "apples fruit 0.31414926\n",
      "John man 0.26821977\n",
      "John fruit 0.20185773\n",
      "apples man 0.16096424\n",
      "loves man 0.1280555\n",
      "loves fruit 0.10413375\n",
      "apples likes 0.10055058\n",
      "loves some 0.0007409943\n",
      "John some -0.014235608\n",
      "apples some -0.0352299\n",
      "John likes -0.08188056\n"
     ]
    }
   ],
   "source": [
    "#Most similar words with decreasing value of similiarity score\n",
    "tokens1 = sentence_similiarity(u'John loves apples')\n",
    "tokens2 = sentence_similiarity(u'some man likes fruit')\n",
    "similiarity_score_of_tokens_dict = {}\n",
    "for token1 in tokens1:\n",
    "    for token2 in tokens2:\n",
    "        similiarity_score_of_tokens = token1.similarity(token2)\n",
    "        dict_key = str(token1.text+' '+token2.text)\n",
    "        similiarity_score_of_tokens_dict[dict_key] = similiarity_score_of_tokens\n",
    "sorted_by_value = sorted(similiarity_score_of_tokens_dict.items(), key=lambda kv: kv[1],reverse=True)\n",
    "\n",
    "print(\"Most Similar words\")\n",
    "for key,value in sorted_by_value:\n",
    "    print(key,value)"
   ]
  },
  {
   "cell_type": "markdown",
   "metadata": {},
   "source": [
    "b. For the most similar words that you identified in a., write Python code that computes the distance between them."
   ]
  },
  {
   "cell_type": "code",
   "execution_count": 92,
   "metadata": {},
   "outputs": [
    {
     "data": {
      "text/plain": [
       "16.691017"
      ]
     },
     "execution_count": 92,
     "metadata": {},
     "output_type": "execute_result"
    }
   ],
   "source": [
    "import numpy as np\n",
    "nlp = spacy.load('en_core_web_sm')\n",
    "loves = nlp(u'loves')\n",
    "likes = nlp(u'likes')\n",
    "loves_vector = loves.vector\n",
    "likes_vector = likes.vector\n",
    "np.linalg.norm(loves_vector-likes_vector)\n"
   ]
  },
  {
   "cell_type": "markdown",
   "metadata": {},
   "source": [
    "c. Sum up and average over the distances to print out the Word Mover's Distance between the two lines."
   ]
  },
  {
   "cell_type": "code",
   "execution_count": 109,
   "metadata": {},
   "outputs": [
    {
     "name": "stdout",
     "output_type": "stream",
     "text": [
      "Word movers distance 26.46319309870402\n"
     ]
    }
   ],
   "source": [
    "from gensim.models import Word2Vec\n",
    "s1 = nlp(u'John loves apples')\n",
    "s2 = nlp(u'some man likes fruit')\n",
    "count = 0\n",
    "sum = 0\n",
    "distance_between_words = {}\n",
    "for t1 in s1:\n",
    "    for t2 in s2:\n",
    "        t_1 = sentence_similiarity(t1.text)\n",
    "        t_2 = sentence_similiarity(t2.text)\n",
    "        v1 = t_1.vector\n",
    "        v2 = t_2.vector\n",
    "        sum = sum + np.linalg.norm(v1-v2)\n",
    "        count = count +1\n",
    "wmd = sum/count\n",
    "\n",
    "print(\"Word movers distance\",wmd)"
   ]
  },
  {
   "cell_type": "markdown",
   "metadata": {},
   "source": [
    "Task 3:\n",
    "Select a target text with more than 500 words. Segment the text into sentences. Parse each sentence using a Dependency Parser. Use the Dependency Parser output and map out all occurrences of:"
   ]
  },
  {
   "cell_type": "code",
   "execution_count": 40,
   "metadata": {},
   "outputs": [],
   "source": [
    "text = \"\"\"\n",
    "People often install a kitty door, only to discover that they have a problem. The problem is their cat will not use the kitty door. There are several common reasons why cats won’t use kitty doors. First, they may not understand how a kitty door works. They may not understand that it is a little doorway just for them. Second, many kitty doors are dark and cats cannot see to the other side. As such, they can’t be sure of what is on the other side of the door, so they won’t take the risk. One last reason cats won’t use kitty doors is because some cats don’t like the feeling of pushing through and then having the door drag across their back. But don’t worry—there are solutions to this problem.\n",
    "The first step in solving the problem is to prop the door open with tape. This means your cat will now be able to see through to the other side; your cat will likely begin using the kitty door immediately. Once your cat has gotten used to using the kitty door, remove the tape. Sometimes cats will continue to use the kitty door without any more prompting. If this does not happen, you will want to use food to bribe your cat. When it’s feeding time, sit on the opposite side of the door from your cat and either click the top of the can or crinkle the cat food bag. Open the door to show your cat that it is both you and the food waiting on the other side of the door. Repeat this a couple times, and then feed your cat. After a couple days of this, your kitty door problem will be gone.\n",
    "I do well in school, and people think I am smart because of it. But it’s not true. In fact, three years ago I struggled in school. However, two years ago I decided to get serious about school and made a few changes. First, I decided I would become interested in whatever was being taught, regardless of what other people thought. I also decided I would work hard every day and never give up on any assignment. I decided to never, never fall behind. Finally, I decided to make school a priority over friends and fun. After implementing these changes, I became an active participant in classroom discussions. Then my test scores began to rise. I still remember the first time that someone made fun of me because “I was smart.” How exciting! It seems to me that being smart is simply a matter of working hard and being interested. After all, learning a new video game is hard work even when you are interested. Unfortunately, learning a new video game doesn’t help you get into college or get a good job.\n",
    "\"\"\""
   ]
  },
  {
   "cell_type": "code",
   "execution_count": 41,
   "metadata": {},
   "outputs": [
    {
     "name": "stdout",
     "output_type": "stream",
     "text": [
      "0 \n",
      "People often install a kitty door, only to discover that they have a problem.\n",
      "1 The problem is their cat will not use the kitty door.\n",
      "2 There are several common reasons why cats won’t use kitty doors.\n",
      "3 First, they may not understand how a kitty door works.\n",
      "4 They may not understand that it is a little doorway just for them.\n",
      "5 Second, many kitty doors are dark and cats cannot see to the other side.\n",
      "6 As such, they can’t be sure of what is on the other side of the door, so they won’t take the risk.\n",
      "7 One last reason cats won’t use kitty doors is because some cats don’t like the feeling of pushing through and then having the door drag across their back.\n",
      "8 But don’t worry—there are solutions to this problem.\n",
      "\n",
      "9 The first step in solving the problem is to prop the door open with tape.\n",
      "10 This means your cat will now be able to see through to the other side; your cat will likely begin using the kitty door immediately.\n",
      "11 Once your cat has gotten used to using the kitty door, remove the tape.\n",
      "12 Sometimes cats will continue to use the kitty door without any more prompting.\n",
      "13 If this does not happen, you will want to use food to bribe your cat.\n",
      "14 When it’s feeding time, sit on the opposite side of the door from your cat and either click the top of the can or crinkle the cat food bag.\n",
      "15 Open the door to show your cat that it is both you and the food waiting on the other side of the door.\n",
      "16 Repeat this a couple times, and then feed your cat.\n",
      "17 After a couple days of this, your kitty door problem will be gone.\n",
      "\n",
      "18 I do well in school, and people think I am smart because of it.\n",
      "19 But it’s not true.\n",
      "20 In fact, three years ago I struggled in school.\n",
      "21 However, two years ago I decided to get serious about school and made a few changes.\n",
      "22 First, I decided I would become interested in whatever was being taught, regardless of what other people thought.\n",
      "23 I also decided I would work hard every day and never give up on any assignment.\n",
      "24 I decided to never, never fall behind.\n",
      "25 Finally, I decided to make school a priority over friends and fun.\n",
      "26 After implementing these changes, I became an active participant in classroom discussions.\n",
      "27 Then my test scores began to rise.\n",
      "28 I still remember the first time that someone made fun of me because “I was smart.\n",
      "29 ”\n",
      "30 How exciting!\n",
      "31 It seems to me that being smart is simply a matter of working hard and being interested.\n",
      "32 After all, learning a new video game is hard work even when you are interested.\n",
      "33 Unfortunately, learning a new video game doesn’t help you get into college or get a good job.\n",
      "\n"
     ]
    }
   ],
   "source": [
    "#segmentation of text into sentences\n",
    "nlp = spacy.load('en_core_web_sm')\n",
    "sentences = []\n",
    "idx = 0\n",
    "doc =nlp(text)\n",
    "for sent in doc.sents:\n",
    "    print(idx,sent.text)\n",
    "    sentences.append(sent.text)\n",
    "    idx= idx + 1 "
   ]
  },
  {
   "cell_type": "code",
   "execution_count": 42,
   "metadata": {},
   "outputs": [],
   "source": [
    "SUBJECTS = {\"nsubj\", \"nsubjpass\", \"csubj\", \"csubjpass\", \"agent\", \"expl\"}\n",
    "OBJECTS = {\"dobj\", \"dative\", \"attr\", \"oprd\"}\n",
    "\n",
    "def getSubjects(v):\n",
    "    subjects = [t for t in v.lefts if t.dep_ in SUBJECTS and t.pos_ != \"DET\"]\n",
    "    return subjects\n",
    "\n",
    "def getObjects(v, active_sentence):\n",
    "    rights = list(v.rights)\n",
    "    objs = [t for t in rights if t.dep_ in OBJECTS or (passive_sentence and t.dep_ == 'pobj')]\n",
    "    return objs"
   ]
  },
  {
   "cell_type": "code",
   "execution_count": 43,
   "metadata": {},
   "outputs": [
    {
     "name": "stdout",
     "output_type": "stream",
     "text": [
      "Subject [People]\n",
      "Verb install\n",
      "Object [door]\n",
      "--------------------------------------------------------------------------------------------------\n",
      "Subject [they]\n",
      "Verb have\n",
      "Object [problem]\n",
      "--------------------------------------------------------------------------------------------------\n",
      "Subject [cat]\n",
      "Verb use\n",
      "Object [door]\n",
      "--------------------------------------------------------------------------------------------------\n",
      "Subject [There]\n",
      "Verb are\n",
      "Object [reasons]\n",
      "--------------------------------------------------------------------------------------------------\n",
      "Subject [cats]\n",
      "Verb use\n",
      "Object [doors]\n",
      "--------------------------------------------------------------------------------------------------\n",
      "Subject [it]\n",
      "Verb is\n",
      "Object [doorway]\n",
      "--------------------------------------------------------------------------------------------------\n",
      "Subject [they]\n",
      "Verb take\n",
      "Object [risk]\n",
      "--------------------------------------------------------------------------------------------------\n",
      "Subject [cats]\n",
      "Verb use\n",
      "Object [doors]\n",
      "--------------------------------------------------------------------------------------------------\n",
      "Subject [cats]\n",
      "Verb like\n",
      "Object [feeling]\n",
      "--------------------------------------------------------------------------------------------------\n",
      "Subject [there]\n",
      "Verb are\n",
      "Object [solutions]\n",
      "--------------------------------------------------------------------------------------------------\n",
      "Subject [it]\n",
      "Verb is\n",
      "Object [you]\n",
      "--------------------------------------------------------------------------------------------------\n",
      "Subject [I]\n",
      "Verb became\n",
      "Object [participant]\n",
      "--------------------------------------------------------------------------------------------------\n",
      "Subject [I]\n",
      "Verb remember\n",
      "Object [time]\n",
      "--------------------------------------------------------------------------------------------------\n",
      "Subject [someone]\n",
      "Verb made\n",
      "Object [fun]\n",
      "--------------------------------------------------------------------------------------------------\n",
      "Subject [being]\n",
      "Verb is\n",
      "Object [matter]\n",
      "--------------------------------------------------------------------------------------------------\n",
      "Subject [learning]\n",
      "Verb is\n",
      "Object [work]\n",
      "--------------------------------------------------------------------------------------------------\n"
     ]
    }
   ],
   "source": [
    "for s in sentences:\n",
    "    #Extract verbs in the sentence\n",
    "    doc2 = nlp(s)\n",
    "    # verbs = [tok for tok in doc3 if (tok.pos_ == \"VERB\" and (tok.dep_ != \"aux\" and tok.dep_ != \"auxpass\"))]\n",
    "    verbs = []\n",
    "    #Determine active or passive sentence\n",
    "    passive_sentence =False\n",
    "    for tok in doc2:\n",
    "        if tok.dep_ == \"auxpass\":\n",
    "            passive_sentence = True\n",
    "        if (tok.pos_ == \"VERB\" and (tok.dep_ != \"aux\" and tok.dep_ != \"auxpass\")):\n",
    "             verbs.append(tok)\n",
    "\n",
    "    for v in verbs:\n",
    "        if not (not getSubjects(v) or not getObjects(v,passive_sentence)):\n",
    "            print(\"Subject\",getSubjects(v))\n",
    "            print(\"Verb\",v)\n",
    "            print(\"Object\",getObjects(v,passive_sentence))\n",
    "            print(\"--------------------------------------------------------------------------------------------------\")"
   ]
  }
 ],
 "metadata": {
  "kernelspec": {
   "display_name": "Python 3",
   "language": "python",
   "name": "python3"
  },
  "language_info": {
   "codemirror_mode": {
    "name": "ipython",
    "version": 3
   },
   "file_extension": ".py",
   "mimetype": "text/x-python",
   "name": "python",
   "nbconvert_exporter": "python",
   "pygments_lexer": "ipython3",
   "version": "3.7.0"
  }
 },
 "nbformat": 4,
 "nbformat_minor": 2
}
